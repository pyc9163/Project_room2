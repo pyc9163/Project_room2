{
 "cells": [
  {
   "cell_type": "code",
   "execution_count": 1,
   "metadata": {},
   "outputs": [],
   "source": [
    "import matplotlib.pyplot as plt\n",
    "import numpy as np\n",
    "import seaborn as sns\n",
    "import tensorflow.compat.v2 as tf\n",
    "tf.enable_v2_behavior()\n",
    "import tensorflow_probability as tfp"
   ]
  },
  {
   "cell_type": "code",
   "execution_count": 2,
   "metadata": {},
   "outputs": [],
   "source": [
    "sns.reset_defaults()\n",
    "sns.set_context(context='talk',font_scale=0.7)\n",
    "\n",
    "%matplotlib inline\n",
    "\n",
    "tfd = tfp.distributions"
   ]
  },
  {
   "cell_type": "code",
   "execution_count": 3,
   "metadata": {},
   "outputs": [
    {
     "data": {
      "text/plain": [
       "'2.0.0-dev20190715'"
      ]
     },
     "execution_count": 3,
     "metadata": {},
     "output_type": "execute_result"
    }
   ],
   "source": [
    "tf.__version__"
   ]
  },
  {
   "cell_type": "code",
   "execution_count": 4,
   "metadata": {},
   "outputs": [
    {
     "data": {
      "text/plain": [
       "'0.8.0'"
      ]
     },
     "execution_count": 4,
     "metadata": {},
     "output_type": "execute_result"
    }
   ],
   "source": [
    "tfp.__version__"
   ]
  },
  {
   "cell_type": "markdown",
   "metadata": {},
   "source": [
    "더 빠른 학습을 위해(GPU확인)"
   ]
  },
  {
   "cell_type": "code",
   "execution_count": 5,
   "metadata": {},
   "outputs": [
    {
     "name": "stdout",
     "output_type": "stream",
     "text": [
      "WARNING: GPU device not found.\n"
     ]
    }
   ],
   "source": [
    "if tf.test.gpu_device_name() != '/device:GPU:0':\n",
    "  print('WARNING: GPU device not found.')\n",
    "else:\n",
    "  print('SUCCESS: Found GPU: {}'.format(tf.test.gpu_device_name()))"
   ]
  },
  {
   "cell_type": "markdown",
   "metadata": {},
   "source": [
    "loss function : negative log-likelihood"
   ]
  },
  {
   "cell_type": "code",
   "execution_count": 6,
   "metadata": {},
   "outputs": [],
   "source": [
    "negloglik = lambda y, rv_y: -rv_y.log_prob(y)"
   ]
  },
  {
   "cell_type": "markdown",
   "metadata": {},
   "source": [
    "데이터 준비"
   ]
  },
  {
   "cell_type": "code",
   "execution_count": 10,
   "metadata": {},
   "outputs": [],
   "source": [
    "def load_dataset(n=150, n_tst=150):\n",
    "    np.random.seed(43)\n",
    "    def s(x):\n",
    "        g = (x - x_range[0]) / (x_range[1] - x_range[0])\n",
    "        return 3 * (0.25 + g**2.)\n",
    "    x = (x_range[1] - x_range[0]) * np.random.rand(n) + x_range[0]\n",
    "    eps = np.random.randn(n) * s(x)\n",
    "    y = (w0 * x * (1. + np.sin(x)) + b0) + eps\n",
    "    x = x[..., np.newaxis]\n",
    "    x_tst = np.linspace(*x_range, num=n_tst).astype(np.float32)\n",
    "    x_tst = x_tst[..., np.newaxis]\n",
    "    return y, x, x_tst"
   ]
  },
  {
   "cell_type": "code",
   "execution_count": 11,
   "metadata": {},
   "outputs": [],
   "source": [
    "w0 = 0.125\n",
    "b0 = 5.\n",
    "x_range = [-20, 60]"
   ]
  },
  {
   "cell_type": "code",
   "execution_count": 12,
   "metadata": {},
   "outputs": [],
   "source": [
    "y, x, x_tst = load_dataset()"
   ]
  },
  {
   "cell_type": "markdown",
   "metadata": {},
   "source": [
    "Case1. No Uncertainty(Simple Linear Regression)  "
   ]
  },
  {
   "cell_type": "markdown",
   "metadata": {},
   "source": [
    "inputs에 의존하는 위치(평균)을 중심으로한 척도1의 정규 분포를 사용하여 라벨을 모델링한다.  \n",
    "TFP의 tfp.layers.DistributionLambda 레이어는 tfd.Distribution의 인스턴스를 반환한다."
   ]
  },
  {
   "cell_type": "code",
   "execution_count": 13,
   "metadata": {},
   "outputs": [],
   "source": [
    "# Build model.\n",
    "model = tf.keras.Sequential([\n",
    "    tf.keras.layers.Dense(1),\n",
    "    tfp.layers.DistributionLambda(lambda t: tfd.Normal(loc=t, scale=1)),\n",
    "])"
   ]
  },
  {
   "cell_type": "code",
   "execution_count": 14,
   "metadata": {},
   "outputs": [
    {
     "name": "stderr",
     "output_type": "stream",
     "text": [
      "WARNING: Logging before flag parsing goes to stderr.\n",
      "W0402 13:15:00.127492 139893707798272 deprecation.py:323] From /home/ubuntu/.local/lib/python3.6/site-packages/tensorflow_core/python/keras/optimizer_v2/optimizer_v2.py:460: BaseResourceVariable.constraint (from tensorflow.python.ops.resource_variable_ops) is deprecated and will be removed in a future version.\n",
      "Instructions for updating:\n",
      "Apply a constraint manually following the optimizer update step.\n"
     ]
    }
   ],
   "source": [
    "# Do inference.\n",
    "model.compile(optimizer=tf.optimizers.Adam(learning_rate=0.01), loss=negloglik)\n",
    "model.fit(x, y, epochs=1000, verbose=False);"
   ]
  },
  {
   "cell_type": "code",
   "execution_count": 15,
   "metadata": {},
   "outputs": [
    {
     "name": "stdout",
     "output_type": "stream",
     "text": [
      "0.13275808\n",
      "5.128968\n"
     ]
    }
   ],
   "source": [
    "# Profit.\n",
    "[print(np.squeeze(w.numpy())) for w in model.weights];\n",
    "yhat = model(x_tst)\n",
    "assert isinstance(yhat, tfd.Distribution)"
   ]
  },
  {
   "cell_type": "code",
   "execution_count": 16,
   "metadata": {},
   "outputs": [
    {
     "data": {
      "image/png": "[encoded data removed]",
      "text/plain": [
       "<Figure size 432x108 with 1 Axes>"
      ]
     },
     "metadata": {
      "needs_background": "light"
     },
     "output_type": "display_data"
    }
   ],
   "source": [
    "w = np.squeeze(model.layers[-2].kernel.numpy())\n",
    "b = np.squeeze(model.layers[-2].bias.numpy())\n",
    "\n",
    "plt.figure(figsize=[6, 1.5])  # inches\n",
    "#plt.figure(figsize=[8, 5])  # inches\n",
    "plt.plot(x, y, 'b.', label='observed');\n",
    "plt.plot(x_tst, yhat.mean(),'r', label='mean', linewidth=4);\n",
    "plt.ylim(-0.,17);\n",
    "plt.yticks(np.linspace(0, 15, 4)[1:]);\n",
    "plt.xticks(np.linspace(*x_range, num=9));\n",
    "plt.title(\"No Uncertainty\")\n",
    "ax=plt.gca();\n",
    "ax.xaxis.set_ticks_position('bottom')\n",
    "ax.yaxis.set_ticks_position('left')\n",
    "ax.spines['left'].set_position(('data', 0))\n",
    "ax.spines['top'].set_visible(False)\n",
    "ax.spines['right'].set_visible(False)\n",
    "#ax.spines['left'].set_smart_bounds(True)\n",
    "#ax.spines['bottom'].set_smart_bounds(True)\n",
    "plt.legend(loc='center left', fancybox=True, framealpha=0., bbox_to_anchor=(1.05, 0.5))\n",
    "\n",
    "plt.savefig('/tmp/fig1.png', bbox_inches='tight', dpi=300)"
   ]
  },
  {
   "cell_type": "markdown",
   "metadata": {},
   "source": [
    "따라서, 데이터의 전반적인 추세(파란색 점)에 대한 모델의 예측 평균(빨간색 선)을 관측할 수 있다."
   ]
  },
  {
   "cell_type": "markdown",
   "metadata": {},
   "source": [
    "Case2 : Alegtoric Uncertainty(Data Uncertainty)"
   ]
  },
  {
   "cell_type": "markdown",
   "metadata": {},
   "source": [
    "라벨(y) 분포의 평균을 예측하는 것 외에, 표준편차도 예측한다. 동일한 방식으로 훈련하고 예측을 구성한 후에 x의 함수로서 y의 가변성에 대한 의미있는 예측을 얻을 수 있다."
   ]
  },
  {
   "cell_type": "code",
   "execution_count": 19,
   "metadata": {},
   "outputs": [],
   "source": [
    "# Build model.\n",
    "model = tf.keras.Sequential([\n",
    "    tf.keras.layers.Dense(1 + 1),\n",
    "    tfp.layers.DistributionLambda(\n",
    "          lambda t: tfd.Normal(loc=t[..., :1],\n",
    "                               scale=1e-3 + tf.math.softplus(0.05 * t[...,1:]))),\n",
    "])"
   ]
  },
  {
   "cell_type": "code",
   "execution_count": 20,
   "metadata": {},
   "outputs": [],
   "source": [
    "# Do inference.\n",
    "model.compile(optimizer=tf.optimizers.Adam(learning_rate=0.01), loss=negloglik)\n",
    "model.fit(x, y, epochs=1000, verbose=False);"
   ]
  },
  {
   "cell_type": "code",
   "execution_count": 21,
   "metadata": {},
   "outputs": [
    {
     "name": "stdout",
     "output_type": "stream",
     "text": [
      "[0.12132087 0.9924036 ]\n",
      "[ 5.206389 11.793966]\n"
     ]
    }
   ],
   "source": [
    "# Profit.\n",
    "[print(np.squeeze(w.numpy())) for w in model.weights];\n",
    "yhat = model(x_tst)\n",
    "assert isinstance(yhat, tfd.Distribution)"
   ]
  },
  {
   "cell_type": "code",
   "execution_count": 22,
   "metadata": {},
   "outputs": [
    {
     "data": {
      "image/png": "[encoded data removed]",
      "text/plain": [
       "<Figure size 432x108 with 1 Axes>"
      ]
     },
     "metadata": {
      "needs_background": "light"
     },
     "output_type": "display_data"
    }
   ],
   "source": [
    "plt.figure(figsize=[6, 1.5])  # inches\n",
    "plt.plot(x, y, 'b.', label='observed');\n",
    "\n",
    "m = yhat.mean()\n",
    "s = yhat.stddev()\n",
    "\n",
    "plt.plot(x_tst, m, 'r', linewidth=4, label='mean');\n",
    "plt.plot(x_tst, m + 2 * s, 'g', linewidth=2, label=r'mean + 2 stddev');\n",
    "plt.plot(x_tst, m - 2 * s, 'g', linewidth=2, label=r'mean - 2 stddev');\n",
    "\n",
    "plt.ylim(-0.,17);\n",
    "plt.yticks(np.linspace(0, 15, 4)[1:]);\n",
    "plt.xticks(np.linspace(*x_range, num=9));\n",
    "plt.title(\"Aleatoric Uncertainty\")\n",
    "ax=plt.gca();\n",
    "ax.xaxis.set_ticks_position('bottom')\n",
    "ax.yaxis.set_ticks_position('left')\n",
    "ax.spines['left'].set_position(('data', 0))\n",
    "ax.spines['top'].set_visible(False)\n",
    "ax.spines['right'].set_visible(False)\n",
    "#ax.spines['left'].set_smart_bounds(True)\n",
    "#ax.spines['bottom'].set_smart_bounds(True)\n",
    "plt.legend(loc='center left', fancybox=True, framealpha=0., bbox_to_anchor=(1.05, 0.5))\n",
    "\n",
    "plt.savefig('/tmp/fig2.png', bbox_inches='tight', dpi=300)"
   ]
  },
  {
   "cell_type": "markdown",
   "metadata": {},
   "source": [
    "나아진 결과과 보인다. 모델의 결과로 x가 커질수록 y값이 무엇이어야 하는지에 대해 불확실성을 얻을 수 있다. 이런 불활실성을 aleatoric uncertainty(data uncertainty)라 부른다. 왜냐하면 이것은 데이터에 내재된 근본적인 변화량을 나타내기 때문이다.  \n",
    "주어진 문제의 data uncertainty를 계량함으로서 더 나은 결과를 예측했지만, 이 문제의 유일한 불확실성은 아니다. 더 나아가기 전에, 불확실성의 근원을 생각해보자."
   ]
  },
  {
   "cell_type": "markdown",
   "metadata": {},
   "source": [
    "Case3 : Epicstemic Uncertainty(Model Uncertainty)"
   ]
  },
  {
   "cell_type": "markdown",
   "metadata": {},
   "source": [
    "데이터의 노이즈는 x와 y의 선형 관계의 매개변수를 완적히 확신할 수 없다는 것을 의미한다. 예를 들어, Case2에서 발견한 y의 기울기가 타당한것 같지만, 확실히 알 수 없다. 아마 약간 더 얕거나 더 가파른 기울기가 더 합리적일 수도 있다. 이런 종류의 불확실성을 episemic uncertainty(model uncertainty)라 부른다. epistemic unertainty는 더 많은 데이터를 이용함으로 불확실성을 줄일 수 있다.  \n",
    "불확실성을 계량하기 위해 TFP의 DenseVariational 레이어를 사용한다."
   ]
  },
  {
   "cell_type": "markdown",
   "metadata": {},
   "source": [
    " DenseVariational 레이어는 값의 불확실성을 나타내기 위해 가중치에 대한 variational posterior(Q(w))를 사용한다. 이 계층은 Q(w)를 이전 분포 P(w)에 가깝게 정규화하여 가중치의 불확실성을 모델링한다.  \n",
    " Q(w)의 경우, 훈련 가능한 대각 공분산 행렬이 훈련가능한 Q(w)에 대해 다변량 정규 분포를 사용할 것이다. P(w)의 경우 훈련 가능한 location과 고정된 scale로 표준 다변량 정규 분포를 사용할 것이다."
   ]
  },
  {
   "cell_type": "code",
   "execution_count": 23,
   "metadata": {},
   "outputs": [],
   "source": [
    "def posterior_mean_field(kernel_size, bias_size=0, dtype=None):\n",
    "    n = kernel_size + bias_size\n",
    "    c = np.log(np.expm1(1.))\n",
    "    return tf.keras.Sequential([\n",
    "            tfp.layers.VariableLayer(2 * n, dtype=dtype),\n",
    "            tfp.layers.DistributionLambda(lambda t: tfd.Independent(\n",
    "              tfd.Normal(loc=t[..., :n],\n",
    "                         scale=1e-5 + tf.nn.softplus(c + t[..., n:])),\n",
    "              reinterpreted_batch_ndims=1)), ])"
   ]
  },
  {
   "cell_type": "code",
   "execution_count": 24,
   "metadata": {},
   "outputs": [],
   "source": [
    "def prior_trainable(kernel_size, bias_size=0, dtype=None):\n",
    "    n = kernel_size + bias_size\n",
    "    return tf.keras.Sequential([\n",
    "            tfp.layers.VariableLayer(n, dtype=dtype),\n",
    "            tfp.layers.DistributionLambda(lambda t: tfd.Independent(\n",
    "              tfd.Normal(loc=t, scale=1),\n",
    "              reinterpreted_batch_ndims=1)),])"
   ]
  },
  {
   "cell_type": "code",
   "execution_count": 25,
   "metadata": {},
   "outputs": [],
   "source": [
    "# Build model.\n",
    "model = tf.keras.Sequential([\n",
    "    tfp.layers.DenseVariational(1, posterior_mean_field, prior_trainable, kl_weight=1/x.shape[0]),\n",
    "    tfp.layers.DistributionLambda(lambda t: tfd.Normal(loc=t, scale=1)),\n",
    "])"
   ]
  },
  {
   "cell_type": "code",
   "execution_count": 26,
   "metadata": {},
   "outputs": [],
   "source": [
    "# Do inference.\n",
    "model.compile(optimizer=tf.optimizers.Adam(learning_rate=0.01), loss=negloglik)\n",
    "model.fit(x, y, epochs=1000, verbose=False);"
   ]
  },
  {
   "cell_type": "code",
   "execution_count": 27,
   "metadata": {},
   "outputs": [
    {
     "name": "stdout",
     "output_type": "stream",
     "text": [
      "[ 0.12253008  5.131384   -4.0284123  -2.2247841 ]\n",
      "[0.12746182 5.0955534 ]\n"
     ]
    }
   ],
   "source": [
    "# Profit.\n",
    "[print(np.squeeze(w.numpy())) for w in model.weights];\n",
    "yhat = model(x_tst)\n",
    "assert isinstance(yhat, tfd.Distribution)"
   ]
  },
  {
   "cell_type": "code",
   "execution_count": 29,
   "metadata": {},
   "outputs": [
    {
     "data": {
      "image/png": "[encoded data removed]",
      "text/plain": [
       "<Figure size 432x108 with 1 Axes>"
      ]
     },
     "metadata": {
      "needs_background": "light"
     },
     "output_type": "display_data"
    }
   ],
   "source": [
    "plt.figure(figsize=[6, 1.5])  # inches\n",
    "plt.clf();\n",
    "plt.plot(x, y, 'b.', label='observed');\n",
    "\n",
    "yhats = [model(x_tst) for _ in range(100)]\n",
    "avgm = np.zeros_like(x_tst[..., 0])\n",
    "for i, yhat in enumerate(yhats):\n",
    "    m = np.squeeze(yhat.mean())\n",
    "    s = np.squeeze(yhat.stddev())\n",
    "    if i < 25:\n",
    "        plt.plot(x_tst, m, 'r', label='ensemble means' if i == 0 else None, linewidth=0.5)\n",
    "    avgm += m\n",
    "plt.plot(x_tst, avgm/len(yhats), 'r', label='overall mean', linewidth=4)\n",
    "\n",
    "plt.ylim(-0.,17);\n",
    "plt.yticks(np.linspace(0, 15, 4)[1:]);\n",
    "plt.xticks(np.linspace(*x_range, num=9));\n",
    "plt.title(\"Epistemic Uncertainty\")\n",
    "\n",
    "ax=plt.gca();\n",
    "ax.xaxis.set_ticks_position('bottom')\n",
    "ax.yaxis.set_ticks_position('left')\n",
    "ax.spines['left'].set_position(('data', 0))\n",
    "ax.spines['top'].set_visible(False)\n",
    "ax.spines['right'].set_visible(False)\n",
    "#ax.spines['left'].set_smart_bounds(True)\n",
    "#ax.spines['bottom'].set_smart_bounds(True)\n",
    "plt.legend(loc='center left', fancybox=True, framealpha=0., bbox_to_anchor=(1.05, 0.5))\n",
    "\n",
    "plt.savefig('/tmp/fig3.png', bbox_inches='tight', dpi=300)"
   ]
  },
  {
   "cell_type": "markdown",
   "metadata": {},
   "source": [
    "위의 그래프의 흥미로운 점은 모델이 예측할 때마다 다른 결과가 나온다는 것이다. \n",
    "왜냐하면 DenseVariational은 기본적으로 모델의 앙상블을 정의하기 때문이다.  \n",
    "각 선은 사후분포에서의 모델 매개변수의 다른 무작위 결과를 나타낸다. 여러번의 모델 예측 결과를 이용해 x의 분포에 대한 각 구간의 불확실성을 나타낼 수 있다."
   ]
  },
  {
   "cell_type": "markdown",
   "metadata": {},
   "source": [
    "Case4 : Aleatoric & Epistemic Uncertainty"
   ]
  },
  {
   "cell_type": "markdown",
   "metadata": {},
   "source": [
    "또한, TFP의 컴파일 가능한 API를 사용한여 두가지 불확실성을 동시에 학습하는 모델을 만들 수 있다."
   ]
  },
  {
   "cell_type": "code",
   "execution_count": 31,
   "metadata": {},
   "outputs": [],
   "source": [
    "# Build model.\n",
    "model = tf.keras.Sequential([\n",
    "    tfp.layers.DenseVariational(1 + 1, posterior_mean_field, prior_trainable, kl_weight=1/x.shape[0]),\n",
    "    tfp.layers.DistributionLambda(\n",
    "              lambda t: tfd.Normal(loc=t[..., :1],\n",
    "                                   scale=1e-3 + tf.math.softplus(0.01 * t[...,1:]))),\n",
    "])"
   ]
  },
  {
   "cell_type": "code",
   "execution_count": 32,
   "metadata": {},
   "outputs": [],
   "source": [
    "# Do inference.\n",
    "model.compile(optimizer=tf.optimizers.Adam(learning_rate=0.01), loss=negloglik)\n",
    "model.fit(x, y, epochs=1000, verbose=False);"
   ]
  },
  {
   "cell_type": "code",
   "execution_count": 33,
   "metadata": {},
   "outputs": [
    {
     "name": "stdout",
     "output_type": "stream",
     "text": [
      "[ 0.13065335  2.689317    5.1712117   3.9084537  -3.5280435  -0.97595066\n",
      " -2.1345022  -0.26864034]\n",
      "[0.1262337 2.6539614 5.1450815 3.746189 ]\n"
     ]
    }
   ],
   "source": [
    "# Profit.\n",
    "[print(np.squeeze(w.numpy())) for w in model.weights];\n",
    "yhat = model(x_tst)\n",
    "assert isinstance(yhat, tfd.Distribution)"
   ]
  },
  {
   "cell_type": "markdown",
   "metadata": {},
   "source": [
    "이전 모델에서 유일한 변경사항은 DenseVariational 레이어를 출력층에 추가하여 라벨의 분포의 축척도 모델링했다는 것이다. 이전 결과와 같이 모델의 앙상블을 얻지만, 모두 y의 가변성을 계량할 수 있다."
   ]
  },
  {
   "cell_type": "code",
   "execution_count": null,
   "metadata": {},
   "outputs": [],
   "source": [
    "plt.figure(figsize=[6, 1.5])  # inches\n",
    "plt.plot(x, y, 'b.', label='observed');\n",
    "\n",
    "yhats = [model(x_tst) for _ in range(100)]\n",
    "avgm = np.zeros_like(x_tst[..., 0])\n",
    "for i, yhat in enumerate(yhats):\n",
    "    m = np.squeeze(yhat.mean())\n",
    "    s = np.squeeze(yhat.stddev())\n",
    "    if i < 15:\n",
    "        plt.plot(x_tst, m, 'r', label='ensemble means' if i == 0 else None, linewidth=1.)\n",
    "        plt.plot(x_tst, m + 2 * s, 'g', linewidth=0.5, label='ensemble means + 2 ensemble stdev' if i == 0 else None);\n",
    "        plt.plot(x_tst, m - 2 * s, 'g', linewidth=0.5, label='ensemble means - 2 ensemble stdev' if i == 0 else None);\n",
    "    avgm += m\n",
    "plt.plot(x_tst, avgm/len(yhats), 'r', label='overall mean', linewidth=4)\n",
    "\n",
    "plt.ylim(-0.,17);\n",
    "plt.yticks(np.linspace(0, 15, 4)[1:]);\n",
    "plt.xticks(np.linspace(*x_range, num=9));\n",
    "plt.title(\"Both Uncertainty\")\n",
    "ax=plt.gca();\n",
    "ax.xaxis.set_ticks_position('bottom')\n",
    "ax.yaxis.set_ticks_position('left')\n",
    "ax.spines['left'].set_position(('data', 0))\n",
    "ax.spines['top'].set_visible(False)\n",
    "ax.spines['right'].set_visible(False)\n",
    "#ax.spines['left'].set_smart_bounds(True)\n",
    "#ax.spines['bottom'].set_smart_bounds(True)\n",
    "plt.legend(loc='center left', fancybox=True, framealpha=0., bbox_to_anchor=(1.05, 0.5))\n",
    "\n",
    "plt.savefig('/tmp/fig4.png', bbox_inches='tight', dpi=300)"
   ]
  },
  {
   "cell_type": "markdown",
   "metadata": {},
   "source": [
    "이 모델의 예측은 aleatoric uncertainty만 고려했던 모델의 예측과의 차이가 있다. 이 모델은 x의 epistemic uncertainty가 더 클 수록 더 많은 가변성을 예측한다. 이는 단순한 선형모델로는 수행할 수 없는 것이다."
   ]
  },
  {
   "cell_type": "markdown",
   "metadata": {},
   "source": [
    "### Conclusion"
   ]
  },
  {
   "cell_type": "markdown",
   "metadata": {},
   "source": [
    " TensorFlow Probability를 이용해서 가장 기본적인 선형회귀 모형에 대해 aleatoric, epistemic uncertainty를 계량해보았다. 단순히 입력값(x)에 대한 모델의 추정값(y)만 얻는 것이 아닌 데이터 측면의 불확실성, 모델 파라미터 측면의 불확실성을 측정해 모델의 추정값에 대한 폭넓은 활용이 가능해 보인다. 즉, 모델이 추정값만 제공하는 것이아닌, 다른 지표도 제공함으로서 값에 대한 신뢰성 측면에서의 이점을 얻을 수 있다 생각된다.  \n",
    " 다음 글에선 TFP 패키지가 아닌 다른 방식의 불확실성 계량에 대해 기술해보겠다."
   ]
  }
 ],
 "metadata": {
  "kernelspec": {
   "display_name": "Python 3",
   "language": "python",
   "name": "python3"
  },
  "language_info": {
   "codemirror_mode": {
    "name": "ipython",
    "version": 3
   },
   "file_extension": ".py",
   "mimetype": "text/x-python",
   "name": "python",
   "nbconvert_exporter": "python",
   "pygments_lexer": "ipython3",
   "version": "3.6.9"
  }
 },
 "nbformat": 4,
 "nbformat_minor": 2
}
