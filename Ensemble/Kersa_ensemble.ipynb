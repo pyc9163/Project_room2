{
 "cells": [
  {
   "cell_type": "markdown",
   "metadata": {},
   "source": [
    "# Keras Model ensemble"
   ]
  },
  {
   "cell_type": "code",
   "execution_count": 1,
   "metadata": {},
   "outputs": [],
   "source": [
    "import math\n",
    "import matplotlib.pyplot as plt\n",
    "import numpy as np\n",
    "import pandas as pd\n",
    "import copy\n",
    "from sklearn.datasets import load_breast_cancer\n",
    "data = load_breast_cancer()"
   ]
  },
  {
   "cell_type": "code",
   "execution_count": 2,
   "metadata": {},
   "outputs": [],
   "source": [
    "features = data.data\n",
    "feature_names = data.feature_names\n",
    "target = data.target\n",
    "target_names = data.target_names"
   ]
  },
  {
   "cell_type": "code",
   "execution_count": 3,
   "metadata": {},
   "outputs": [],
   "source": [
    "df = pd.DataFrame(data.data)"
   ]
  },
  {
   "cell_type": "code",
   "execution_count": 4,
   "metadata": {},
   "outputs": [],
   "source": [
    "df.columns = feature_names"
   ]
  },
  {
   "cell_type": "markdown",
   "metadata": {},
   "source": [
    "- data normalization"
   ]
  },
  {
   "cell_type": "code",
   "execution_count": 5,
   "metadata": {},
   "outputs": [
    {
     "data": {
      "text/html": [
       "<div>\n",
       "<style scoped>\n",
       "    .dataframe tbody tr th:only-of-type {\n",
       "        vertical-align: middle;\n",
       "    }\n",
       "\n",
       "    .dataframe tbody tr th {\n",
       "        vertical-align: top;\n",
       "    }\n",
       "\n",
       "    .dataframe thead th {\n",
       "        text-align: right;\n",
       "    }\n",
       "</style>\n",
       "<table border=\"1\" class=\"dataframe\">\n",
       "  <thead>\n",
       "    <tr style=\"text-align: right;\">\n",
       "      <th></th>\n",
       "      <th>mean radius</th>\n",
       "      <th>mean texture</th>\n",
       "      <th>mean perimeter</th>\n",
       "      <th>mean area</th>\n",
       "      <th>mean smoothness</th>\n",
       "      <th>mean compactness</th>\n",
       "      <th>mean concavity</th>\n",
       "      <th>mean concave points</th>\n",
       "      <th>mean symmetry</th>\n",
       "      <th>mean fractal dimension</th>\n",
       "      <th>...</th>\n",
       "      <th>worst radius</th>\n",
       "      <th>worst texture</th>\n",
       "      <th>worst perimeter</th>\n",
       "      <th>worst area</th>\n",
       "      <th>worst smoothness</th>\n",
       "      <th>worst compactness</th>\n",
       "      <th>worst concavity</th>\n",
       "      <th>worst concave points</th>\n",
       "      <th>worst symmetry</th>\n",
       "      <th>worst fractal dimension</th>\n",
       "    </tr>\n",
       "  </thead>\n",
       "  <tbody>\n",
       "    <tr>\n",
       "      <th>0</th>\n",
       "      <td>0.598975</td>\n",
       "      <td>0.000000</td>\n",
       "      <td>0.616395</td>\n",
       "      <td>0.499916</td>\n",
       "      <td>0.774450</td>\n",
       "      <td>1.000000</td>\n",
       "      <td>0.853313</td>\n",
       "      <td>0.895815</td>\n",
       "      <td>0.864182</td>\n",
       "      <td>0.801742</td>\n",
       "      <td>...</td>\n",
       "      <td>0.750278</td>\n",
       "      <td>0.080040</td>\n",
       "      <td>0.842009</td>\n",
       "      <td>0.662220</td>\n",
       "      <td>0.735559</td>\n",
       "      <td>0.844837</td>\n",
       "      <td>0.788914</td>\n",
       "      <td>0.985826</td>\n",
       "      <td>0.913767</td>\n",
       "      <td>0.735181</td>\n",
       "    </tr>\n",
       "    <tr>\n",
       "      <th>1</th>\n",
       "      <td>0.761105</td>\n",
       "      <td>0.346808</td>\n",
       "      <td>0.706657</td>\n",
       "      <td>0.706799</td>\n",
       "      <td>0.250428</td>\n",
       "      <td>0.185732</td>\n",
       "      <td>0.247094</td>\n",
       "      <td>0.427324</td>\n",
       "      <td>0.397460</td>\n",
       "      <td>0.152238</td>\n",
       "      <td>...</td>\n",
       "      <td>0.732185</td>\n",
       "      <td>0.308598</td>\n",
       "      <td>0.670047</td>\n",
       "      <td>0.638553</td>\n",
       "      <td>0.355354</td>\n",
       "      <td>0.187366</td>\n",
       "      <td>0.267736</td>\n",
       "      <td>0.690895</td>\n",
       "      <td>0.318361</td>\n",
       "      <td>0.371005</td>\n",
       "    </tr>\n",
       "    <tr>\n",
       "      <th>2</th>\n",
       "      <td>0.705805</td>\n",
       "      <td>0.523264</td>\n",
       "      <td>0.680740</td>\n",
       "      <td>0.628502</td>\n",
       "      <td>0.637451</td>\n",
       "      <td>0.518982</td>\n",
       "      <td>0.561293</td>\n",
       "      <td>0.778890</td>\n",
       "      <td>0.595067</td>\n",
       "      <td>0.250077</td>\n",
       "      <td>...</td>\n",
       "      <td>0.666308</td>\n",
       "      <td>0.388292</td>\n",
       "      <td>0.628057</td>\n",
       "      <td>0.545765</td>\n",
       "      <td>0.559318</td>\n",
       "      <td>0.513905</td>\n",
       "      <td>0.499125</td>\n",
       "      <td>0.902621</td>\n",
       "      <td>0.595960</td>\n",
       "      <td>0.353455</td>\n",
       "    </tr>\n",
       "    <tr>\n",
       "      <th>3</th>\n",
       "      <td>0.186112</td>\n",
       "      <td>0.479150</td>\n",
       "      <td>0.212271</td>\n",
       "      <td>0.108493</td>\n",
       "      <td>1.000000</td>\n",
       "      <td>1.000000</td>\n",
       "      <td>0.686404</td>\n",
       "      <td>0.640651</td>\n",
       "      <td>1.000000</td>\n",
       "      <td>1.000000</td>\n",
       "      <td>...</td>\n",
       "      <td>0.264549</td>\n",
       "      <td>0.424756</td>\n",
       "      <td>0.270603</td>\n",
       "      <td>0.117022</td>\n",
       "      <td>1.000000</td>\n",
       "      <td>1.000000</td>\n",
       "      <td>0.761209</td>\n",
       "      <td>0.956481</td>\n",
       "      <td>1.000000</td>\n",
       "      <td>1.000000</td>\n",
       "    </tr>\n",
       "    <tr>\n",
       "      <th>4</th>\n",
       "      <td>0.743509</td>\n",
       "      <td>0.172887</td>\n",
       "      <td>0.726318</td>\n",
       "      <td>0.688339</td>\n",
       "      <td>0.492667</td>\n",
       "      <td>0.407844</td>\n",
       "      <td>0.562999</td>\n",
       "      <td>0.635170</td>\n",
       "      <td>0.395153</td>\n",
       "      <td>0.215892</td>\n",
       "      <td>...</td>\n",
       "      <td>0.618524</td>\n",
       "      <td>0.055230</td>\n",
       "      <td>0.626057</td>\n",
       "      <td>0.495426</td>\n",
       "      <td>0.490010</td>\n",
       "      <td>0.212622</td>\n",
       "      <td>0.443272</td>\n",
       "      <td>0.603605</td>\n",
       "      <td>0.194197</td>\n",
       "      <td>0.221825</td>\n",
       "    </tr>\n",
       "  </tbody>\n",
       "</table>\n",
       "<p>5 rows × 30 columns</p>\n",
       "</div>"
      ],
      "text/plain": [
       "   mean radius  mean texture  mean perimeter  mean area  mean smoothness  \\\n",
       "0     0.598975      0.000000        0.616395   0.499916         0.774450   \n",
       "1     0.761105      0.346808        0.706657   0.706799         0.250428   \n",
       "2     0.705805      0.523264        0.680740   0.628502         0.637451   \n",
       "3     0.186112      0.479150        0.212271   0.108493         1.000000   \n",
       "4     0.743509      0.172887        0.726318   0.688339         0.492667   \n",
       "\n",
       "   mean compactness  mean concavity  mean concave points  mean symmetry  \\\n",
       "0          1.000000        0.853313             0.895815       0.864182   \n",
       "1          0.185732        0.247094             0.427324       0.397460   \n",
       "2          0.518982        0.561293             0.778890       0.595067   \n",
       "3          1.000000        0.686404             0.640651       1.000000   \n",
       "4          0.407844        0.562999             0.635170       0.395153   \n",
       "\n",
       "   mean fractal dimension           ...             worst radius  \\\n",
       "0                0.801742           ...                 0.750278   \n",
       "1                0.152238           ...                 0.732185   \n",
       "2                0.250077           ...                 0.666308   \n",
       "3                1.000000           ...                 0.264549   \n",
       "4                0.215892           ...                 0.618524   \n",
       "\n",
       "   worst texture  worst perimeter  worst area  worst smoothness  \\\n",
       "0       0.080040         0.842009    0.662220          0.735559   \n",
       "1       0.308598         0.670047    0.638553          0.355354   \n",
       "2       0.388292         0.628057    0.545765          0.559318   \n",
       "3       0.424756         0.270603    0.117022          1.000000   \n",
       "4       0.055230         0.626057    0.495426          0.490010   \n",
       "\n",
       "   worst compactness  worst concavity  worst concave points  worst symmetry  \\\n",
       "0           0.844837         0.788914              0.985826        0.913767   \n",
       "1           0.187366         0.267736              0.690895        0.318361   \n",
       "2           0.513905         0.499125              0.902621        0.595960   \n",
       "3           1.000000         0.761209              0.956481        1.000000   \n",
       "4           0.212622         0.443272              0.603605        0.194197   \n",
       "\n",
       "   worst fractal dimension  \n",
       "0                 0.735181  \n",
       "1                 0.371005  \n",
       "2                 0.353455  \n",
       "3                 1.000000  \n",
       "4                 0.221825  \n",
       "\n",
       "[5 rows x 30 columns]"
      ]
     },
     "execution_count": 5,
     "metadata": {},
     "output_type": "execute_result"
    }
   ],
   "source": [
    "low_quantiles = df.quantile(0.01)\n",
    "high_quantiles = df.quantile(0.99)\n",
    "\n",
    "outliers_low = (df < low_quantiles)\n",
    "outliers_high = (df > high_quantiles)\n",
    "\n",
    "df = df.mask(outliers_low, low_quantiles, axis=1)\n",
    "df = df.mask(outliers_high, high_quantiles, axis=1)\n",
    "\n",
    "df = (df - np.min(df, axis=0)) / (np.max(df, axis=0) - np.min(df, axis=0))\n",
    "df.head()"
   ]
  },
  {
   "cell_type": "code",
   "execution_count": 6,
   "metadata": {},
   "outputs": [],
   "source": [
    "df = pd.concat([df,pd.DataFrame(target)],axis = 1)"
   ]
  },
  {
   "cell_type": "code",
   "execution_count": 7,
   "metadata": {},
   "outputs": [],
   "source": [
    "X_var = feature_names"
   ]
  },
  {
   "cell_type": "code",
   "execution_count": 8,
   "metadata": {},
   "outputs": [],
   "source": [
    "colnames = list(feature_names)\n",
    "colnames.append('target')"
   ]
  },
  {
   "cell_type": "code",
   "execution_count": 9,
   "metadata": {},
   "outputs": [],
   "source": [
    "df.columns = colnames"
   ]
  },
  {
   "cell_type": "code",
   "execution_count": 11,
   "metadata": {
    "scrolled": true
   },
   "outputs": [
    {
     "data": {
      "text/plain": [
       "1    357\n",
       "0    212\n",
       "Name: target, dtype: int64"
      ]
     },
     "execution_count": 11,
     "metadata": {},
     "output_type": "execute_result"
    }
   ],
   "source": [
    "df.target.value_counts()"
   ]
  },
  {
   "cell_type": "code",
   "execution_count": 12,
   "metadata": {},
   "outputs": [],
   "source": [
    "from sklearn.model_selection import train_test_split"
   ]
  },
  {
   "cell_type": "code",
   "execution_count": 13,
   "metadata": {},
   "outputs": [],
   "source": [
    "X_train, X_test, y_train, y_test = train_test_split(np.array(df[X_var]), target, test_size=0.2, random_state=42)"
   ]
  },
  {
   "cell_type": "code",
   "execution_count": 14,
   "metadata": {},
   "outputs": [
    {
     "name": "stderr",
     "output_type": "stream",
     "text": [
      "Using TensorFlow backend.\n"
     ]
    }
   ],
   "source": [
    "import math\n",
    "import numpy as np\n",
    "\n",
    "import keras\n",
    "from keras.models import Sequential\n",
    "from keras.layers import Dense, Dropout,Average\n",
    "from keras.models import Model, Input\n",
    "from keras import objectives, backend as K\n",
    "from keras.callbacks import EarlyStopping,ModelCheckpoint,TensorBoard\n",
    "\n",
    "from keras.engine.input_layer import Input"
   ]
  },
  {
   "cell_type": "code",
   "execution_count": 18,
   "metadata": {},
   "outputs": [],
   "source": [
    "def makeModel(input_x, numOfOut, z_dim,m_name):    \n",
    "    x = Dense(z_dim*2,activation='relu')(input_x)\n",
    "    x = Dropout(0.3)(x)\n",
    "    x = Dense(z_dim, activation='relu')(x)\n",
    "    out = Dense(numOfOut, activation='softmax')(x)\n",
    "    \n",
    "    model = Model(input_x,out, name= m_name)\n",
    "    return model"
   ]
  },
  {
   "cell_type": "code",
   "execution_count": 19,
   "metadata": {},
   "outputs": [],
   "source": [
    "z_dim = 20\n",
    "input_dim = X_train.shape[1]\n",
    "input_x = Input(shape = (input_dim,))\n",
    "\n",
    "model = makeModel(input_x = input_x, numOfOut=len(np.unique(target)), z_dim=z_dim, m_name = 'model1')"
   ]
  },
  {
   "cell_type": "code",
   "execution_count": 20,
   "metadata": {},
   "outputs": [
    {
     "name": "stdout",
     "output_type": "stream",
     "text": [
      "_________________________________________________________________\n",
      "Layer (type)                 Output Shape              Param #   \n",
      "=================================================================\n",
      "input_2 (InputLayer)         (None, 30)                0         \n",
      "_________________________________________________________________\n",
      "dense_4 (Dense)              (None, 40)                1240      \n",
      "_________________________________________________________________\n",
      "dropout_2 (Dropout)          (None, 40)                0         \n",
      "_________________________________________________________________\n",
      "dense_5 (Dense)              (None, 20)                820       \n",
      "_________________________________________________________________\n",
      "dense_6 (Dense)              (None, 2)                 42        \n",
      "=================================================================\n",
      "Total params: 2,102\n",
      "Trainable params: 2,102\n",
      "Non-trainable params: 0\n",
      "_________________________________________________________________\n"
     ]
    },
    {
     "data": {
      "image/svg+xml": [
       "<svg height=\"387pt\" viewBox=\"0.00 0.00 271.00 387.00\" width=\"271pt\" xmlns=\"http://www.w3.org/2000/svg\" xmlns:xlink=\"http://www.w3.org/1999/xlink\">\n",
       "<g class=\"graph\" id=\"graph0\" transform=\"scale(1 1) rotate(0) translate(4 383)\">\n",
       "<title>G</title>\n",
       "<polygon fill=\"white\" points=\"-4,4 -4,-383 267,-383 267,4 -4,4\" stroke=\"none\"/>\n",
       "<!-- 3033293387984 -->\n",
       "<g class=\"node\" id=\"node1\"><title>3033293387984</title>\n",
       "<polygon fill=\"none\" points=\"2,-332.5 2,-378.5 261,-378.5 261,-332.5 2,-332.5\" stroke=\"black\"/>\n",
       "<text font-family=\"Times New Roman,serif\" font-size=\"14.00\" text-anchor=\"middle\" x=\"65\" y=\"-351.8\">input_2: InputLayer</text>\n",
       "<polyline fill=\"none\" points=\"128,-332.5 128,-378.5 \" stroke=\"black\"/>\n",
       "<text font-family=\"Times New Roman,serif\" font-size=\"14.00\" text-anchor=\"middle\" x=\"156\" y=\"-363.3\">input:</text>\n",
       "<polyline fill=\"none\" points=\"128,-355.5 184,-355.5 \" stroke=\"black\"/>\n",
       "<text font-family=\"Times New Roman,serif\" font-size=\"14.00\" text-anchor=\"middle\" x=\"156\" y=\"-340.3\">output:</text>\n",
       "<polyline fill=\"none\" points=\"184,-332.5 184,-378.5 \" stroke=\"black\"/>\n",
       "<text font-family=\"Times New Roman,serif\" font-size=\"14.00\" text-anchor=\"middle\" x=\"222.5\" y=\"-363.3\">(None, 30)</text>\n",
       "<polyline fill=\"none\" points=\"184,-355.5 261,-355.5 \" stroke=\"black\"/>\n",
       "<text font-family=\"Times New Roman,serif\" font-size=\"14.00\" text-anchor=\"middle\" x=\"222.5\" y=\"-340.3\">(None, 30)</text>\n",
       "</g>\n",
       "<!-- 3033293388320 -->\n",
       "<g class=\"node\" id=\"node2\"><title>3033293388320</title>\n",
       "<polygon fill=\"none\" points=\"13,-249.5 13,-295.5 250,-295.5 250,-249.5 13,-249.5\" stroke=\"black\"/>\n",
       "<text font-family=\"Times New Roman,serif\" font-size=\"14.00\" text-anchor=\"middle\" x=\"65\" y=\"-268.8\">dense_4: Dense</text>\n",
       "<polyline fill=\"none\" points=\"117,-249.5 117,-295.5 \" stroke=\"black\"/>\n",
       "<text font-family=\"Times New Roman,serif\" font-size=\"14.00\" text-anchor=\"middle\" x=\"145\" y=\"-280.3\">input:</text>\n",
       "<polyline fill=\"none\" points=\"117,-272.5 173,-272.5 \" stroke=\"black\"/>\n",
       "<text font-family=\"Times New Roman,serif\" font-size=\"14.00\" text-anchor=\"middle\" x=\"145\" y=\"-257.3\">output:</text>\n",
       "<polyline fill=\"none\" points=\"173,-249.5 173,-295.5 \" stroke=\"black\"/>\n",
       "<text font-family=\"Times New Roman,serif\" font-size=\"14.00\" text-anchor=\"middle\" x=\"211.5\" y=\"-280.3\">(None, 30)</text>\n",
       "<polyline fill=\"none\" points=\"173,-272.5 250,-272.5 \" stroke=\"black\"/>\n",
       "<text font-family=\"Times New Roman,serif\" font-size=\"14.00\" text-anchor=\"middle\" x=\"211.5\" y=\"-257.3\">(None, 40)</text>\n",
       "</g>\n",
       "<!-- 3033293387984&#45;&gt;3033293388320 -->\n",
       "<g class=\"edge\" id=\"edge1\"><title>3033293387984-&gt;3033293388320</title>\n",
       "<path d=\"M131.5,-332.366C131.5,-324.152 131.5,-314.658 131.5,-305.725\" fill=\"none\" stroke=\"black\"/>\n",
       "<polygon fill=\"black\" points=\"135,-305.607 131.5,-295.607 128,-305.607 135,-305.607\" stroke=\"black\"/>\n",
       "</g>\n",
       "<!-- 3033293388824 -->\n",
       "<g class=\"node\" id=\"node3\"><title>3033293388824</title>\n",
       "<polygon fill=\"none\" points=\"0,-166.5 0,-212.5 263,-212.5 263,-166.5 0,-166.5\" stroke=\"black\"/>\n",
       "<text font-family=\"Times New Roman,serif\" font-size=\"14.00\" text-anchor=\"middle\" x=\"65\" y=\"-185.8\">dropout_2: Dropout</text>\n",
       "<polyline fill=\"none\" points=\"130,-166.5 130,-212.5 \" stroke=\"black\"/>\n",
       "<text font-family=\"Times New Roman,serif\" font-size=\"14.00\" text-anchor=\"middle\" x=\"158\" y=\"-197.3\">input:</text>\n",
       "<polyline fill=\"none\" points=\"130,-189.5 186,-189.5 \" stroke=\"black\"/>\n",
       "<text font-family=\"Times New Roman,serif\" font-size=\"14.00\" text-anchor=\"middle\" x=\"158\" y=\"-174.3\">output:</text>\n",
       "<polyline fill=\"none\" points=\"186,-166.5 186,-212.5 \" stroke=\"black\"/>\n",
       "<text font-family=\"Times New Roman,serif\" font-size=\"14.00\" text-anchor=\"middle\" x=\"224.5\" y=\"-197.3\">(None, 40)</text>\n",
       "<polyline fill=\"none\" points=\"186,-189.5 263,-189.5 \" stroke=\"black\"/>\n",
       "<text font-family=\"Times New Roman,serif\" font-size=\"14.00\" text-anchor=\"middle\" x=\"224.5\" y=\"-174.3\">(None, 40)</text>\n",
       "</g>\n",
       "<!-- 3033293388320&#45;&gt;3033293388824 -->\n",
       "<g class=\"edge\" id=\"edge2\"><title>3033293388320-&gt;3033293388824</title>\n",
       "<path d=\"M131.5,-249.366C131.5,-241.152 131.5,-231.658 131.5,-222.725\" fill=\"none\" stroke=\"black\"/>\n",
       "<polygon fill=\"black\" points=\"135,-222.607 131.5,-212.607 128,-222.607 135,-222.607\" stroke=\"black\"/>\n",
       "</g>\n",
       "<!-- 3033292989496 -->\n",
       "<g class=\"node\" id=\"node4\"><title>3033292989496</title>\n",
       "<polygon fill=\"none\" points=\"13,-83.5 13,-129.5 250,-129.5 250,-83.5 13,-83.5\" stroke=\"black\"/>\n",
       "<text font-family=\"Times New Roman,serif\" font-size=\"14.00\" text-anchor=\"middle\" x=\"65\" y=\"-102.8\">dense_5: Dense</text>\n",
       "<polyline fill=\"none\" points=\"117,-83.5 117,-129.5 \" stroke=\"black\"/>\n",
       "<text font-family=\"Times New Roman,serif\" font-size=\"14.00\" text-anchor=\"middle\" x=\"145\" y=\"-114.3\">input:</text>\n",
       "<polyline fill=\"none\" points=\"117,-106.5 173,-106.5 \" stroke=\"black\"/>\n",
       "<text font-family=\"Times New Roman,serif\" font-size=\"14.00\" text-anchor=\"middle\" x=\"145\" y=\"-91.3\">output:</text>\n",
       "<polyline fill=\"none\" points=\"173,-83.5 173,-129.5 \" stroke=\"black\"/>\n",
       "<text font-family=\"Times New Roman,serif\" font-size=\"14.00\" text-anchor=\"middle\" x=\"211.5\" y=\"-114.3\">(None, 40)</text>\n",
       "<polyline fill=\"none\" points=\"173,-106.5 250,-106.5 \" stroke=\"black\"/>\n",
       "<text font-family=\"Times New Roman,serif\" font-size=\"14.00\" text-anchor=\"middle\" x=\"211.5\" y=\"-91.3\">(None, 20)</text>\n",
       "</g>\n",
       "<!-- 3033293388824&#45;&gt;3033292989496 -->\n",
       "<g class=\"edge\" id=\"edge3\"><title>3033293388824-&gt;3033292989496</title>\n",
       "<path d=\"M131.5,-166.366C131.5,-158.152 131.5,-148.658 131.5,-139.725\" fill=\"none\" stroke=\"black\"/>\n",
       "<polygon fill=\"black\" points=\"135,-139.607 131.5,-129.607 128,-139.607 135,-139.607\" stroke=\"black\"/>\n",
       "</g>\n",
       "<!-- 3033293488536 -->\n",
       "<g class=\"node\" id=\"node5\"><title>3033293488536</title>\n",
       "<polygon fill=\"none\" points=\"13,-0.5 13,-46.5 250,-46.5 250,-0.5 13,-0.5\" stroke=\"black\"/>\n",
       "<text font-family=\"Times New Roman,serif\" font-size=\"14.00\" text-anchor=\"middle\" x=\"65\" y=\"-19.8\">dense_6: Dense</text>\n",
       "<polyline fill=\"none\" points=\"117,-0.5 117,-46.5 \" stroke=\"black\"/>\n",
       "<text font-family=\"Times New Roman,serif\" font-size=\"14.00\" text-anchor=\"middle\" x=\"145\" y=\"-31.3\">input:</text>\n",
       "<polyline fill=\"none\" points=\"117,-23.5 173,-23.5 \" stroke=\"black\"/>\n",
       "<text font-family=\"Times New Roman,serif\" font-size=\"14.00\" text-anchor=\"middle\" x=\"145\" y=\"-8.3\">output:</text>\n",
       "<polyline fill=\"none\" points=\"173,-0.5 173,-46.5 \" stroke=\"black\"/>\n",
       "<text font-family=\"Times New Roman,serif\" font-size=\"14.00\" text-anchor=\"middle\" x=\"211.5\" y=\"-31.3\">(None, 20)</text>\n",
       "<polyline fill=\"none\" points=\"173,-23.5 250,-23.5 \" stroke=\"black\"/>\n",
       "<text font-family=\"Times New Roman,serif\" font-size=\"14.00\" text-anchor=\"middle\" x=\"211.5\" y=\"-8.3\">(None, 2)</text>\n",
       "</g>\n",
       "<!-- 3033292989496&#45;&gt;3033293488536 -->\n",
       "<g class=\"edge\" id=\"edge4\"><title>3033292989496-&gt;3033293488536</title>\n",
       "<path d=\"M131.5,-83.3664C131.5,-75.1516 131.5,-65.6579 131.5,-56.7252\" fill=\"none\" stroke=\"black\"/>\n",
       "<polygon fill=\"black\" points=\"135,-56.6068 131.5,-46.6068 128,-56.6069 135,-56.6068\" stroke=\"black\"/>\n",
       "</g>\n",
       "</g>\n",
       "</svg>"
      ],
      "text/plain": [
       "<IPython.core.display.SVG object>"
      ]
     },
     "execution_count": 20,
     "metadata": {},
     "output_type": "execute_result"
    }
   ],
   "source": [
    "model.summary()\n",
    "\n",
    "from IPython.display import SVG\n",
    "from keras.utils.vis_utils import model_to_dot\n",
    "\n",
    "SVG(model_to_dot(model, show_shapes=True).create(prog='dot', format='svg'))"
   ]
  },
  {
   "cell_type": "code",
   "execution_count": 21,
   "metadata": {},
   "outputs": [],
   "source": [
    "K.clear_session()"
   ]
  },
  {
   "cell_type": "code",
   "execution_count": 23,
   "metadata": {},
   "outputs": [],
   "source": [
    "from keras.callbacks import EarlyStopping\n",
    "early_stopping = EarlyStopping()"
   ]
  },
  {
   "cell_type": "code",
   "execution_count": 24,
   "metadata": {
    "scrolled": true
   },
   "outputs": [
    {
     "name": "stdout",
     "output_type": "stream",
     "text": [
      "(114, 2)\n",
      "[0 1]\n"
     ]
    }
   ],
   "source": [
    "from sklearn.preprocessing import LabelEncoder\n",
    "\n",
    "encoder = LabelEncoder()\n",
    "encoder.fit(y_train)\n",
    "y_train_en = encoder.transform(y_train)\n",
    "y_train_en = keras.utils.to_categorical(y_train_en, num_classes=len(set(encoder.classes_)))\n",
    "\n",
    "encoder = LabelEncoder()\n",
    "encoder.fit(y_test)\n",
    "\n",
    "Y_VAL_CLS = encoder.transform(y_test)\n",
    "Y_VAL_CLS = keras.utils.to_categorical(Y_VAL_CLS, num_classes=len(set(encoder.classes_)))\n",
    "\n",
    "print(Y_VAL_CLS.shape)\n",
    "print(encoder.classes_)"
   ]
  },
  {
   "cell_type": "code",
   "execution_count": 25,
   "metadata": {},
   "outputs": [],
   "source": [
    "def compile_and_train(model, num_epochs,m_name): \n",
    "    \n",
    "    model.compile(loss='categorical_crossentropy', optimizer='adam', metrics=['accuracy','mae'])\n",
    "    filepath = 'models/' + str(m_name) + '.hdf5'\n",
    "    checkpoint = ModelCheckpoint(filepath, monitor='loss', verbose=0, save_weights_only=True,\n",
    "                                                 save_best_only=True, mode='auto', period=1)\n",
    "#     tensor_board = TensorBoard(log_dir='logs/', histogram_freq=0, batch_size=32)\n",
    "    earlyStopping = keras.callbacks.EarlyStopping(monitor='val_loss', patience=10, verbose=1, mode='auto')\n",
    "#     history = model.fit(x=X_train, y=y_train_en, batch_size=50,epochs=num_epochs, \n",
    "#                         verbose=1, callbacks=[checkpoint,earlyStopping], validation_data=(X_test, Y_VAL_CLS),  validation_split=0.2)\n",
    "    history = model.fit(x=X_train, y=y_train_en, batch_size=50,epochs=num_epochs, \n",
    "                    verbose=1, callbacks=[checkpoint],  validation_split=0.2)\n",
    "    return history"
   ]
  },
  {
   "cell_type": "code",
   "execution_count": 26,
   "metadata": {},
   "outputs": [],
   "source": [
    "z_dim = 20\n",
    "input_dim = X_train.shape[1]\n",
    "input_x = Input(shape = (input_dim,))"
   ]
  },
  {
   "cell_type": "code",
   "execution_count": 28,
   "metadata": {},
   "outputs": [],
   "source": [
    "from IPython.display import clear_output"
   ]
  },
  {
   "cell_type": "code",
   "execution_count": 29,
   "metadata": {
    "scrolled": false
   },
   "outputs": [],
   "source": [
    "hist = []\n",
    "for i in range(1,6):\n",
    "    model = makeModel(input_x =input_x, numOfOut=len(np.unique(target)), z_dim=z_dim,m_name = 'model'+str(i))\n",
    "    hist.append(compile_and_train(model,20,'model'+str(i)))\n",
    "    clear_output()"
   ]
  },
  {
   "cell_type": "code",
   "execution_count": 33,
   "metadata": {},
   "outputs": [
    {
     "name": "stdout",
     "output_type": "stream",
     "text": [
      "model acc : 0.9340659314459496\n",
      "model acc : 0.9203296726221567\n",
      "model acc : 0.9258241679642226\n",
      "model acc : 0.9313186845936618\n",
      "model acc : 0.9368131766607474\n"
     ]
    }
   ],
   "source": [
    "for hist_o in hist:\n",
    "    print(\"model acc :\", hist_o.history['acc'][-1])"
   ]
  },
  {
   "cell_type": "code",
   "execution_count": 34,
   "metadata": {
    "scrolled": true
   },
   "outputs": [
    {
     "data": {
      "image/png": "[encoded data removed]",
      "text/plain": [
       "<Figure size 432x288 with 2 Axes>"
      ]
     },
     "metadata": {
      "needs_background": "light"
     },
     "output_type": "display_data"
    }
   ],
   "source": [
    "%matplotlib inline\n",
    "import matplotlib.pyplot as plt\n",
    "\n",
    "fig, loss_ax = plt.subplots()\n",
    "\n",
    "acc_ax = loss_ax.twinx()\n",
    "\n",
    "for hist_o in hist:\n",
    "    loss_ax.plot(hist_o.history['loss'], 'y', label='train loss')\n",
    "    loss_ax.plot(hist_o.history['val_loss'], 'r', label='val loss')\n",
    "\n",
    "    acc_ax.plot(hist_o.history['acc'], 'b', label='train acc')\n",
    "    acc_ax.plot(hist_o.history['val_acc'], 'g', label='val acc')\n",
    "\n",
    "\n",
    "# loss_ax.set_xlabel('epoch')\n",
    "# loss_ax.set_ylabel('loss')\n",
    "# acc_ax.set_ylabel('accuray')\n",
    "\n",
    "# loss_ax.legend(loc='upper left')\n",
    "# acc_ax.legend(loc='lower left')\n",
    "\n",
    "plt.show()"
   ]
  },
  {
   "cell_type": "code",
   "execution_count": 35,
   "metadata": {},
   "outputs": [
    {
     "name": "stdout",
     "output_type": "stream",
     "text": [
      "model1\n",
      "model2\n",
      "model3\n",
      "model4\n",
      "model5\n"
     ]
    }
   ],
   "source": [
    "K.clear_session()\n",
    "z_dim = 20\n",
    "input_dim = X_train.shape[1]\n",
    "input_x = Input(shape = (input_dim,))\n",
    "models = []\n",
    "for i in range(1,6):\n",
    "    model =makeModel(input_x = input_x, numOfOut=len(np.unique(target)), z_dim=z_dim,m_name = 'model'+str(i))\n",
    "    model.load_weights(\"models/model\"+str(i)+\".hdf5\")\n",
    "    print(model.name)\n",
    "    models.append(model)"
   ]
  },
  {
   "cell_type": "code",
   "execution_count": 36,
   "metadata": {},
   "outputs": [],
   "source": [
    "def evaluate_error(model):\n",
    "    pred = model.predict(X_test, batch_size = 32)\n",
    "    pred = np.argmax(pred, axis=1)\n",
    "    pred = np.expand_dims(pred, axis=1) # make same shape as y_test\n",
    "    error = np.sum(np.not_equal(pred, y_test)) / y_test.shape[0]    \n",
    "    return error"
   ]
  },
  {
   "cell_type": "code",
   "execution_count": 37,
   "metadata": {
    "scrolled": true
   },
   "outputs": [
    {
     "name": "stdout",
     "output_type": "stream",
     "text": [
      "model1 53.80701754385965\n",
      "model2 53.07017543859649\n",
      "model3 53.07017543859649\n",
      "model4 52.578947368421055\n",
      "model5 52.824561403508774\n"
     ]
    }
   ],
   "source": [
    "for model_o in models:\n",
    "    print(model_o.name,evaluate_error(model_o))"
   ]
  },
  {
   "cell_type": "code",
   "execution_count": 38,
   "metadata": {},
   "outputs": [
    {
     "name": "stdout",
     "output_type": "stream",
     "text": [
      "model1\n",
      "Train acc : 0.9252747252747253\n",
      "Test acc : 0.956140350877193\n",
      "model2\n",
      "Train acc : 0.9494505494505494\n",
      "Test acc : 0.9649122807017544\n",
      "model3\n",
      "Train acc : 0.9406593406593406\n",
      "Test acc : 0.9649122807017544\n",
      "model4\n",
      "Train acc : 0.9516483516483516\n",
      "Test acc : 0.9649122807017544\n",
      "model5\n",
      "Train acc : 0.9516483516483516\n",
      "Test acc : 0.9736842105263158\n"
     ]
    }
   ],
   "source": [
    "for model_o in models:\n",
    "    print(model_o.name)\n",
    "    print(\"Train acc :\",1-sum(model_o.predict(X_train).argmax(axis=1) != y_train_en.argmax(axis=1)) / y_train_en.shape[0])\n",
    "    print(\"Test acc :\",1-sum(model_o.predict(X_test).argmax(axis=1) != Y_VAL_CLS.argmax(axis=1)) / Y_VAL_CLS.shape[0])"
   ]
  },
  {
   "cell_type": "code",
   "execution_count": 39,
   "metadata": {},
   "outputs": [],
   "source": [
    "def ensemble(models, model_input):\n",
    "    \n",
    "    outputs = [model.outputs[0] for model in models]\n",
    "    y = Average()(outputs)\n",
    "    \n",
    "    model = Model(model_input, y, name='ensemble')\n",
    "    \n",
    "    return model"
   ]
  },
  {
   "cell_type": "code",
   "execution_count": 40,
   "metadata": {
    "scrolled": true
   },
   "outputs": [],
   "source": [
    "ensemble_model = ensemble(models,input_x)"
   ]
  },
  {
   "cell_type": "code",
   "execution_count": 41,
   "metadata": {},
   "outputs": [
    {
     "data": {
      "text/plain": [
       "53.07017543859649"
      ]
     },
     "execution_count": 41,
     "metadata": {},
     "output_type": "execute_result"
    }
   ],
   "source": [
    "evaluate_error(ensemble_model)"
   ]
  },
  {
   "cell_type": "code",
   "execution_count": 42,
   "metadata": {},
   "outputs": [
    {
     "name": "stdout",
     "output_type": "stream",
     "text": [
      "ensemble\n",
      "Train acc : 0.9472527472527472\n",
      "Test acc : 0.9649122807017544\n"
     ]
    }
   ],
   "source": [
    "print(ensemble_model.name)\n",
    "print(\"Train acc :\",1-sum(ensemble_model.predict(X_train).argmax(axis=1) != y_train_en.argmax(axis=1)) / y_train_en.shape[0])\n",
    "print(\"Test acc :\",1-sum(ensemble_model.predict(X_test).argmax(axis=1) != Y_VAL_CLS.argmax(axis=1)) / Y_VAL_CLS.shape[0])"
   ]
  }
 ],
 "metadata": {
  "kernelspec": {
   "display_name": "Python 3",
   "language": "python",
   "name": "python3"
  },
  "language_info": {
   "codemirror_mode": {
    "name": "ipython",
    "version": 3
   },
   "file_extension": ".py",
   "mimetype": "text/x-python",
   "name": "python",
   "nbconvert_exporter": "python",
   "pygments_lexer": "ipython3",
   "version": "3.6.6"
  }
 },
 "nbformat": 4,
 "nbformat_minor": 2
}
