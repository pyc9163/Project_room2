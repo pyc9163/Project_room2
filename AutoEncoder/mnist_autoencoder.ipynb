{
 "cells": [
  {
   "cell_type": "markdown",
   "metadata": {},
   "source": [
    "## Autoencoder"
   ]
  },
  {
   "cell_type": "code",
   "execution_count": 1,
   "metadata": {},
   "outputs": [],
   "source": [
    "import numpy as np\n",
    "import matplotlib.pyplot as plt\n",
    "import tensorflow as tf"
   ]
  },
  {
   "cell_type": "code",
   "execution_count": 2,
   "metadata": {},
   "outputs": [],
   "source": [
    "from tensorflow.keras.callbacks import EarlyStopping\n",
    "early_stopping = EarlyStopping(patience=5)"
   ]
  },
  {
   "cell_type": "code",
   "execution_count": 3,
   "metadata": {},
   "outputs": [
    {
     "data": {
      "text/plain": [
       "'2.0.0-dev20190715'"
      ]
     },
     "execution_count": 3,
     "metadata": {},
     "output_type": "execute_result"
    }
   ],
   "source": [
    "tf.__version__"
   ]
  },
  {
   "cell_type": "code",
   "execution_count": 4,
   "metadata": {},
   "outputs": [],
   "source": [
    "(X_train, Y_train), (X_test, Y_test) = tf.keras.datasets.mnist.load_data()\n",
    "X_train = X_train.reshape(60000, 784).astype('float32') / 255.0\n",
    "X_test = X_test.reshape(10000, 784).astype('float32') / 255.0"
   ]
  },
  {
   "cell_type": "code",
   "execution_count": 5,
   "metadata": {
    "scrolled": true
   },
   "outputs": [
    {
     "data": {
      "image/png": "[encoded data removed]",
      "text/plain": [
       "<Figure size 360x360 with 1 Axes>"
      ]
     },
     "metadata": {
      "needs_background": "light"
     },
     "output_type": "display_data"
    }
   ],
   "source": [
    "plt.figure(figsize=(5, 5))\n",
    "image = np.reshape(X_train[0], [28, 28])\n",
    "plt.imshow(image, cmap='Greys')\n",
    "plt.show()"
   ]
  },
  {
   "cell_type": "markdown",
   "metadata": {},
   "source": [
    "## simple autoencoder"
   ]
  },
  {
   "cell_type": "code",
   "execution_count": 6,
   "metadata": {},
   "outputs": [],
   "source": [
    "def make_simple_encoder_model():\n",
    "    input_layer = tf.keras.layers.Input(shape = (784))\n",
    "    encode = tf.keras.layers.Dense(36, activation='relu')(input_layer)    \n",
    "    output_layer = tf.keras.layers.Dense(784, activation='sigmoid')(encode)    \n",
    "    \n",
    "    model = tf.keras.Model(inputs=input_layer,outputs=output_layer)\n",
    "    \n",
    "    encoder = tf.keras.Model(inputs=input_layer,outputs=encode)\n",
    "\n",
    "    model.compile(loss='binary_crossentropy', optimizer='adam', metrics=['mse'])\n",
    "    \n",
    "    return model,encoder"
   ]
  },
  {
   "cell_type": "code",
   "execution_count": 7,
   "metadata": {},
   "outputs": [],
   "source": [
    "simple_model, simple_encoder = make_simple_encoder_model()"
   ]
  },
  {
   "cell_type": "code",
   "execution_count": 8,
   "metadata": {},
   "outputs": [
    {
     "name": "stdout",
     "output_type": "stream",
     "text": [
      "Model: \"model\"\n",
      "_________________________________________________________________\n",
      "Layer (type)                 Output Shape              Param #   \n",
      "=================================================================\n",
      "input_1 (InputLayer)         [(None, 784)]             0         \n",
      "_________________________________________________________________\n",
      "dense (Dense)                (None, 36)                28260     \n",
      "_________________________________________________________________\n",
      "dense_1 (Dense)              (None, 784)               29008     \n",
      "=================================================================\n",
      "Total params: 57,268\n",
      "Trainable params: 57,268\n",
      "Non-trainable params: 0\n",
      "_________________________________________________________________\n",
      "Model: \"model_1\"\n",
      "_________________________________________________________________\n",
      "Layer (type)                 Output Shape              Param #   \n",
      "=================================================================\n",
      "input_1 (InputLayer)         [(None, 784)]             0         \n",
      "_________________________________________________________________\n",
      "dense (Dense)                (None, 36)                28260     \n",
      "=================================================================\n",
      "Total params: 28,260\n",
      "Trainable params: 28,260\n",
      "Non-trainable params: 0\n",
      "_________________________________________________________________\n"
     ]
    }
   ],
   "source": [
    "simple_model.summary()\n",
    "simple_encoder.summary()"
   ]
  },
  {
   "cell_type": "code",
   "execution_count": 9,
   "metadata": {
    "scrolled": true
   },
   "outputs": [
    {
     "name": "stderr",
     "output_type": "stream",
     "text": [
      "WARNING: Logging before flag parsing goes to stderr.\n",
      "W0408 01:25:51.940625 140274159699712 deprecation.py:323] From /home/ubuntu/.local/lib/python3.6/site-packages/tensorflow_core/python/ops/math_grad.py:1251: where (from tensorflow.python.ops.array_ops) is deprecated and will be removed in a future version.\n",
      "Instructions for updating:\n",
      "Use tf.where in 2.0, which has the same broadcast rule as np.where\n",
      "W0408 01:25:51.984851 140274159699712 deprecation.py:323] From /home/ubuntu/.local/lib/python3.6/site-packages/tensorflow_core/python/keras/optimizer_v2/optimizer_v2.py:460: BaseResourceVariable.constraint (from tensorflow.python.ops.resource_variable_ops) is deprecated and will be removed in a future version.\n",
      "Instructions for updating:\n",
      "Apply a constraint manually following the optimizer update step.\n"
     ]
    },
    {
     "name": "stdout",
     "output_type": "stream",
     "text": [
      "Train on 48000 samples, validate on 12000 samples\n",
      "Epoch 1/50\n",
      "48000/48000 [==============================] - 2s 33us/sample - loss: 0.2926 - mse: 0.0747 - val_loss: 0.1992 - val_mse: 0.0437\n",
      "Epoch 2/50\n",
      "48000/48000 [==============================] - 1s 24us/sample - loss: 0.1772 - mse: 0.0366 - val_loss: 0.1599 - val_mse: 0.0309\n",
      "Epoch 3/50\n",
      "48000/48000 [==============================] - 1s 23us/sample - loss: 0.1502 - mse: 0.0279 - val_loss: 0.1412 - val_mse: 0.0248\n",
      "Epoch 4/50\n",
      "48000/48000 [==============================] - 1s 23us/sample - loss: 0.1341 - mse: 0.0226 - val_loss: 0.1278 - val_mse: 0.0205\n",
      "Epoch 5/50\n",
      "48000/48000 [==============================] - 1s 23us/sample - loss: 0.1226 - mse: 0.0190 - val_loss: 0.1182 - val_mse: 0.0174\n",
      "Epoch 6/50\n",
      "48000/48000 [==============================] - 1s 23us/sample - loss: 0.1142 - mse: 0.0163 - val_loss: 0.1109 - val_mse: 0.0152\n",
      "Epoch 7/50\n",
      "48000/48000 [==============================] - 1s 24us/sample - loss: 0.1078 - mse: 0.0143 - val_loss: 0.1056 - val_mse: 0.0135\n",
      "Epoch 8/50\n",
      "48000/48000 [==============================] - 1s 24us/sample - loss: 0.1031 - mse: 0.0128 - val_loss: 0.1017 - val_mse: 0.0123\n",
      "Epoch 9/50\n",
      "48000/48000 [==============================] - 1s 24us/sample - loss: 0.0994 - mse: 0.0117 - val_loss: 0.0985 - val_mse: 0.0114\n",
      "Epoch 10/50\n",
      "48000/48000 [==============================] - 1s 23us/sample - loss: 0.0967 - mse: 0.0109 - val_loss: 0.0962 - val_mse: 0.0107\n",
      "Epoch 11/50\n",
      "48000/48000 [==============================] - 1s 23us/sample - loss: 0.0946 - mse: 0.0103 - val_loss: 0.0944 - val_mse: 0.0102\n",
      "Epoch 12/50\n",
      "48000/48000 [==============================] - 1s 23us/sample - loss: 0.0930 - mse: 0.0099 - val_loss: 0.0933 - val_mse: 0.0098\n",
      "Epoch 13/50\n",
      "48000/48000 [==============================] - 1s 23us/sample - loss: 0.0919 - mse: 0.0096 - val_loss: 0.0922 - val_mse: 0.0096\n",
      "Epoch 14/50\n",
      "48000/48000 [==============================] - 1s 23us/sample - loss: 0.0912 - mse: 0.0094 - val_loss: 0.0916 - val_mse: 0.0094\n",
      "Epoch 15/50\n",
      "48000/48000 [==============================] - 1s 24us/sample - loss: 0.0906 - mse: 0.0092 - val_loss: 0.0912 - val_mse: 0.0093\n",
      "Epoch 16/50\n",
      "48000/48000 [==============================] - 1s 23us/sample - loss: 0.0902 - mse: 0.0091 - val_loss: 0.0909 - val_mse: 0.0092\n",
      "Epoch 17/50\n",
      "48000/48000 [==============================] - 1s 23us/sample - loss: 0.0899 - mse: 0.0090 - val_loss: 0.0905 - val_mse: 0.0091\n",
      "Epoch 18/50\n",
      "48000/48000 [==============================] - 1s 23us/sample - loss: 0.0897 - mse: 0.0089 - val_loss: 0.0904 - val_mse: 0.0091\n",
      "Epoch 19/50\n",
      "48000/48000 [==============================] - 1s 23us/sample - loss: 0.0895 - mse: 0.0089 - val_loss: 0.0904 - val_mse: 0.0090\n",
      "Epoch 20/50\n",
      "48000/48000 [==============================] - 1s 23us/sample - loss: 0.0893 - mse: 0.0089 - val_loss: 0.0901 - val_mse: 0.0090\n",
      "Epoch 21/50\n",
      "48000/48000 [==============================] - 1s 23us/sample - loss: 0.0892 - mse: 0.0088 - val_loss: 0.0899 - val_mse: 0.0089\n",
      "Epoch 22/50\n",
      "48000/48000 [==============================] - 1s 24us/sample - loss: 0.0891 - mse: 0.0088 - val_loss: 0.0899 - val_mse: 0.0090\n",
      "Epoch 23/50\n",
      "48000/48000 [==============================] - 1s 24us/sample - loss: 0.0890 - mse: 0.0088 - val_loss: 0.0898 - val_mse: 0.0089\n",
      "Epoch 24/50\n",
      "48000/48000 [==============================] - 1s 24us/sample - loss: 0.0889 - mse: 0.0087 - val_loss: 0.0897 - val_mse: 0.0089\n",
      "Epoch 25/50\n",
      "48000/48000 [==============================] - 1s 23us/sample - loss: 0.0888 - mse: 0.0087 - val_loss: 0.0897 - val_mse: 0.0088\n",
      "Epoch 26/50\n",
      "48000/48000 [==============================] - 1s 23us/sample - loss: 0.0888 - mse: 0.0087 - val_loss: 0.0896 - val_mse: 0.0088\n",
      "Epoch 27/50\n",
      "48000/48000 [==============================] - 1s 23us/sample - loss: 0.0887 - mse: 0.0087 - val_loss: 0.0896 - val_mse: 0.0088\n",
      "Epoch 28/50\n",
      "48000/48000 [==============================] - 1s 23us/sample - loss: 0.0887 - mse: 0.0087 - val_loss: 0.0895 - val_mse: 0.0088\n",
      "Epoch 29/50\n",
      "48000/48000 [==============================] - 1s 24us/sample - loss: 0.0886 - mse: 0.0086 - val_loss: 0.0895 - val_mse: 0.0088\n",
      "Epoch 30/50\n",
      "48000/48000 [==============================] - 1s 23us/sample - loss: 0.0886 - mse: 0.0086 - val_loss: 0.0894 - val_mse: 0.0088\n",
      "Epoch 31/50\n",
      "48000/48000 [==============================] - 1s 23us/sample - loss: 0.0885 - mse: 0.0086 - val_loss: 0.0894 - val_mse: 0.0088\n",
      "Epoch 32/50\n",
      "48000/48000 [==============================] - 1s 23us/sample - loss: 0.0885 - mse: 0.0086 - val_loss: 0.0894 - val_mse: 0.0088\n",
      "Epoch 33/50\n",
      "48000/48000 [==============================] - 1s 23us/sample - loss: 0.0885 - mse: 0.0086 - val_loss: 0.0894 - val_mse: 0.0088\n",
      "Epoch 34/50\n",
      "48000/48000 [==============================] - 1s 24us/sample - loss: 0.0884 - mse: 0.0086 - val_loss: 0.0894 - val_mse: 0.0088\n",
      "Epoch 35/50\n",
      "48000/48000 [==============================] - 1s 24us/sample - loss: 0.0884 - mse: 0.0086 - val_loss: 0.0894 - val_mse: 0.0088\n",
      "Epoch 36/50\n",
      "48000/48000 [==============================] - 1s 24us/sample - loss: 0.0884 - mse: 0.0086 - val_loss: 0.0893 - val_mse: 0.0088\n",
      "Epoch 37/50\n",
      "48000/48000 [==============================] - 1s 23us/sample - loss: 0.0883 - mse: 0.0086 - val_loss: 0.0893 - val_mse: 0.0087\n",
      "Epoch 38/50\n",
      "48000/48000 [==============================] - 1s 23us/sample - loss: 0.0883 - mse: 0.0086 - val_loss: 0.0893 - val_mse: 0.0088\n",
      "Epoch 39/50\n",
      "48000/48000 [==============================] - 1s 23us/sample - loss: 0.0883 - mse: 0.0086 - val_loss: 0.0893 - val_mse: 0.0088\n",
      "Epoch 40/50\n",
      "48000/48000 [==============================] - 1s 23us/sample - loss: 0.0883 - mse: 0.0086 - val_loss: 0.0892 - val_mse: 0.0087\n",
      "Epoch 41/50\n",
      "48000/48000 [==============================] - 1s 23us/sample - loss: 0.0883 - mse: 0.0085 - val_loss: 0.0892 - val_mse: 0.0087\n",
      "Epoch 42/50\n",
      "48000/48000 [==============================] - 1s 24us/sample - loss: 0.0882 - mse: 0.0085 - val_loss: 0.0893 - val_mse: 0.0087\n",
      "Epoch 43/50\n",
      "48000/48000 [==============================] - 1s 24us/sample - loss: 0.0882 - mse: 0.0085 - val_loss: 0.0892 - val_mse: 0.0087\n",
      "Epoch 44/50\n",
      "48000/48000 [==============================] - 1s 23us/sample - loss: 0.0882 - mse: 0.0085 - val_loss: 0.0892 - val_mse: 0.0087\n",
      "Epoch 45/50\n",
      "48000/48000 [==============================] - 1s 24us/sample - loss: 0.0882 - mse: 0.0085 - val_loss: 0.0892 - val_mse: 0.0087\n",
      "Epoch 46/50\n",
      "48000/48000 [==============================] - 1s 24us/sample - loss: 0.0882 - mse: 0.0085 - val_loss: 0.0892 - val_mse: 0.0088\n",
      "Epoch 47/50\n",
      "48000/48000 [==============================] - 1s 24us/sample - loss: 0.0882 - mse: 0.0085 - val_loss: 0.0891 - val_mse: 0.0087\n",
      "Epoch 48/50\n",
      "48000/48000 [==============================] - 1s 24us/sample - loss: 0.0882 - mse: 0.0085 - val_loss: 0.0892 - val_mse: 0.0087\n",
      "Epoch 49/50\n",
      "48000/48000 [==============================] - 1s 24us/sample - loss: 0.0881 - mse: 0.0085 - val_loss: 0.0891 - val_mse: 0.0087\n",
      "Epoch 50/50\n",
      "48000/48000 [==============================] - 1s 23us/sample - loss: 0.0881 - mse: 0.0085 - val_loss: 0.0891 - val_mse: 0.0087\n"
     ]
    },
    {
     "data": {
      "text/plain": [
       "<tensorflow.python.keras.callbacks.History at 0x7f939c741668>"
      ]
     },
     "execution_count": 9,
     "metadata": {},
     "output_type": "execute_result"
    }
   ],
   "source": [
    "simple_model.fit(X_train, X_train, epochs=50, batch_size=256,shuffle = True,verbose=True,validation_split = 0.2)"
   ]
  },
  {
   "cell_type": "code",
   "execution_count": 10,
   "metadata": {},
   "outputs": [],
   "source": [
    "X_train_decode = simple_model(X_train)\n",
    "X_train_pre = simple_encoder(X_train)"
   ]
  },
  {
   "cell_type": "code",
   "execution_count": 11,
   "metadata": {},
   "outputs": [
    {
     "data": {
      "image/png": "[encoded data removed]",
      "text/plain": [
       "<Figure size 1440x288 with 30 Axes>"
      ]
     },
     "metadata": {
      "needs_background": "light"
     },
     "output_type": "display_data"
    }
   ],
   "source": [
    "n = 10  # 몇 개의 숫자를 나타낼 것인지\n",
    "plt.figure(figsize=(20, 4))\n",
    "for i in range(n):\n",
    "    # 원본 데이터\n",
    "    ax = plt.subplot(3, n, i + 1)\n",
    "    plt.imshow(np.reshape(X_train[i],[28, 28]))\n",
    "    plt.gray()\n",
    "    ax.get_xaxis().set_visible(False)\n",
    "    ax.get_yaxis().set_visible(False)\n",
    "\n",
    "    # 재구성된 데이터\n",
    "    ax = plt.subplot(3, n, i + 1 + n)\n",
    "    plt.imshow(np.reshape(X_train_decode[i],[28, 28]))\n",
    "    plt.gray()\n",
    "    ax.get_xaxis().set_visible(False)\n",
    "    ax.get_yaxis().set_visible(False)\n",
    "    \n",
    "    # encoding 데이터\n",
    "    ax = plt.subplot(3, n, i + 11 + n)\n",
    "    plt.imshow(np.reshape(X_train_pre[i],[6, 6]))\n",
    "    plt.gray()\n",
    "    ax.get_xaxis().set_visible(False)\n",
    "    ax.get_yaxis().set_visible(False)\n",
    "plt.show()"
   ]
  },
  {
   "cell_type": "markdown",
   "metadata": {},
   "source": [
    "첫번째 줄은 원본이미지이고, 두번째줄은 디코딩된 이미지이다. 꽤 많은 비트손실이 있는 것을 볼 수 있다.  \n",
    "세번째 줄은 인코딩된 압축형태의 이미지이다."
   ]
  },
  {
   "cell_type": "markdown",
   "metadata": {},
   "source": [
    "## Adding a sparsity autoencoder"
   ]
  },
  {
   "cell_type": "markdown",
   "metadata": {},
   "source": [
    "위의 autoencoder에서 표현(representation)은 은닉층의 크기(36)에만 제약을 받았다. 이러한 상황에서, 전형적으로 발생하는 일은 은닉층이 PCA(principal component analysis)의 근사값을 학습한다는 것이다. 표현을 더 간결하게 제한하는 방법은 숨겨진 표현의 활동에 sparsity를 부여하는 것이다. 이는 주어진 시간에 더 적은 유닛이 “실행”될 수 있도록 한다.  \n",
    "Keras에서는 activity_regularizer를 Dense layer에 추가하여 수행할 수 있습니다."
   ]
  },
  {
   "cell_type": "code",
   "execution_count": 12,
   "metadata": {},
   "outputs": [],
   "source": [
    "def make_sparsity_encoder_model():\n",
    "    input_layer = tf.keras.layers.Input(shape = (784))\n",
    "    encode = tf.keras.layers.Dense(36, activation='relu',activity_regularizer =tf.keras.regularizers.l1(10e-5))(input_layer)    \n",
    "    output_layer = tf.keras.layers.Dense(784, activation='sigmoid')(encode)    \n",
    "    \n",
    "    model = tf.keras.Model(inputs=input_layer,outputs=output_layer)\n",
    "    \n",
    "    encoder = tf.keras.Model(inputs=input_layer,outputs=encode)\n",
    "\n",
    "    model.compile(loss='binary_crossentropy', optimizer='adam', metrics=['mse'])\n",
    "    \n",
    "    return model,encoder"
   ]
  },
  {
   "cell_type": "code",
   "execution_count": 13,
   "metadata": {},
   "outputs": [],
   "source": [
    "sparsity_model, sparsity_encoder = make_sparsity_encoder_model()"
   ]
  },
  {
   "cell_type": "code",
   "execution_count": 14,
   "metadata": {
    "scrolled": true
   },
   "outputs": [
    {
     "name": "stdout",
     "output_type": "stream",
     "text": [
      "Train on 48000 samples, validate on 12000 samples\n",
      "Epoch 1/100\n",
      "48000/48000 [==============================] - 2s 31us/sample - loss: 0.3016 - mse: 0.0745 - val_loss: 0.2089 - val_mse: 0.0430\n",
      "Epoch 2/100\n",
      "48000/48000 [==============================] - 1s 24us/sample - loss: 0.1867 - mse: 0.0361 - val_loss: 0.1689 - val_mse: 0.0305\n",
      "Epoch 3/100\n",
      "48000/48000 [==============================] - 1s 23us/sample - loss: 0.1589 - mse: 0.0275 - val_loss: 0.1495 - val_mse: 0.0244\n",
      "Epoch 4/100\n",
      "48000/48000 [==============================] - 1s 23us/sample - loss: 0.1435 - mse: 0.0226 - val_loss: 0.1376 - val_mse: 0.0206\n",
      "Epoch 5/100\n",
      "48000/48000 [==============================] - 1s 23us/sample - loss: 0.1334 - mse: 0.0193 - val_loss: 0.1293 - val_mse: 0.0179\n",
      "Epoch 6/100\n",
      "48000/48000 [==============================] - 1s 23us/sample - loss: 0.1260 - mse: 0.0169 - val_loss: 0.1232 - val_mse: 0.0159\n",
      "Epoch 7/100\n",
      "48000/48000 [==============================] - 1s 23us/sample - loss: 0.1204 - mse: 0.0150 - val_loss: 0.1185 - val_mse: 0.0143\n",
      "Epoch 8/100\n",
      "48000/48000 [==============================] - 1s 23us/sample - loss: 0.1158 - mse: 0.0136 - val_loss: 0.1145 - val_mse: 0.0130\n",
      "Epoch 9/100\n",
      "48000/48000 [==============================] - 1s 24us/sample - loss: 0.1122 - mse: 0.0124 - val_loss: 0.1113 - val_mse: 0.0120\n",
      "Epoch 10/100\n",
      "48000/48000 [==============================] - 1s 24us/sample - loss: 0.1094 - mse: 0.0116 - val_loss: 0.1089 - val_mse: 0.0114\n",
      "Epoch 11/100\n",
      "48000/48000 [==============================] - 1s 24us/sample - loss: 0.1073 - mse: 0.0110 - val_loss: 0.1072 - val_mse: 0.0108\n",
      "Epoch 12/100\n",
      "48000/48000 [==============================] - 1s 24us/sample - loss: 0.1057 - mse: 0.0105 - val_loss: 0.1058 - val_mse: 0.0105\n",
      "Epoch 13/100\n",
      "48000/48000 [==============================] - 1s 24us/sample - loss: 0.1045 - mse: 0.0102 - val_loss: 0.1048 - val_mse: 0.0103\n",
      "Epoch 14/100\n",
      "48000/48000 [==============================] - 1s 24us/sample - loss: 0.1036 - mse: 0.0100 - val_loss: 0.1039 - val_mse: 0.0101\n",
      "Epoch 15/100\n",
      "48000/48000 [==============================] - 1s 24us/sample - loss: 0.1028 - mse: 0.0099 - val_loss: 0.1032 - val_mse: 0.0100\n",
      "Epoch 16/100\n",
      "48000/48000 [==============================] - 1s 24us/sample - loss: 0.1022 - mse: 0.0097 - val_loss: 0.1027 - val_mse: 0.0098\n",
      "Epoch 17/100\n",
      "48000/48000 [==============================] - 1s 23us/sample - loss: 0.1016 - mse: 0.0096 - val_loss: 0.1022 - val_mse: 0.0097\n",
      "Epoch 18/100\n",
      "48000/48000 [==============================] - 1s 24us/sample - loss: 0.1012 - mse: 0.0095 - val_loss: 0.1018 - val_mse: 0.0097\n",
      "Epoch 19/100\n",
      "48000/48000 [==============================] - 1s 24us/sample - loss: 0.1007 - mse: 0.0095 - val_loss: 0.1013 - val_mse: 0.0096\n",
      "Epoch 20/100\n",
      "48000/48000 [==============================] - 1s 23us/sample - loss: 0.1003 - mse: 0.0094 - val_loss: 0.1009 - val_mse: 0.0095\n",
      "Epoch 21/100\n",
      "48000/48000 [==============================] - 1s 23us/sample - loss: 0.1000 - mse: 0.0094 - val_loss: 0.1007 - val_mse: 0.0095\n",
      "Epoch 22/100\n",
      "48000/48000 [==============================] - 1s 23us/sample - loss: 0.0997 - mse: 0.0093 - val_loss: 0.1004 - val_mse: 0.0095\n",
      "Epoch 23/100\n",
      "48000/48000 [==============================] - 1s 23us/sample - loss: 0.0994 - mse: 0.0093 - val_loss: 0.1000 - val_mse: 0.0094\n",
      "Epoch 24/100\n",
      "48000/48000 [==============================] - 1s 24us/sample - loss: 0.0991 - mse: 0.0092 - val_loss: 0.0998 - val_mse: 0.0094\n",
      "Epoch 25/100\n",
      "48000/48000 [==============================] - 1s 23us/sample - loss: 0.0988 - mse: 0.0092 - val_loss: 0.0996 - val_mse: 0.0094\n",
      "Epoch 26/100\n",
      "48000/48000 [==============================] - 1s 23us/sample - loss: 0.0986 - mse: 0.0092 - val_loss: 0.0994 - val_mse: 0.0093\n",
      "Epoch 27/100\n",
      "48000/48000 [==============================] - 1s 23us/sample - loss: 0.0984 - mse: 0.0091 - val_loss: 0.0991 - val_mse: 0.0093\n",
      "Epoch 28/100\n",
      "48000/48000 [==============================] - 1s 24us/sample - loss: 0.0982 - mse: 0.0091 - val_loss: 0.0989 - val_mse: 0.0093\n",
      "Epoch 29/100\n",
      "48000/48000 [==============================] - 1s 24us/sample - loss: 0.0980 - mse: 0.0091 - val_loss: 0.0987 - val_mse: 0.0093\n",
      "Epoch 30/100\n",
      "48000/48000 [==============================] - 1s 23us/sample - loss: 0.0978 - mse: 0.0091 - val_loss: 0.0986 - val_mse: 0.0092\n",
      "Epoch 31/100\n",
      "48000/48000 [==============================] - 1s 24us/sample - loss: 0.0976 - mse: 0.0091 - val_loss: 0.0984 - val_mse: 0.0092\n",
      "Epoch 32/100\n",
      "48000/48000 [==============================] - 1s 24us/sample - loss: 0.0974 - mse: 0.0090 - val_loss: 0.0983 - val_mse: 0.0092\n",
      "Epoch 33/100\n",
      "48000/48000 [==============================] - 1s 24us/sample - loss: 0.0973 - mse: 0.0090 - val_loss: 0.0981 - val_mse: 0.0092\n",
      "Epoch 34/100\n",
      "48000/48000 [==============================] - 1s 24us/sample - loss: 0.0971 - mse: 0.0090 - val_loss: 0.0980 - val_mse: 0.0092\n",
      "Epoch 35/100\n",
      "48000/48000 [==============================] - 1s 24us/sample - loss: 0.0970 - mse: 0.0090 - val_loss: 0.0978 - val_mse: 0.0092\n",
      "Epoch 36/100\n",
      "48000/48000 [==============================] - 1s 23us/sample - loss: 0.0968 - mse: 0.0090 - val_loss: 0.0977 - val_mse: 0.0091\n",
      "Epoch 37/100\n",
      "48000/48000 [==============================] - 1s 24us/sample - loss: 0.0967 - mse: 0.0090 - val_loss: 0.0976 - val_mse: 0.0091\n",
      "Epoch 38/100\n",
      "48000/48000 [==============================] - 1s 24us/sample - loss: 0.0966 - mse: 0.0089 - val_loss: 0.0974 - val_mse: 0.0091\n",
      "Epoch 39/100\n",
      "48000/48000 [==============================] - 1s 24us/sample - loss: 0.0964 - mse: 0.0089 - val_loss: 0.0973 - val_mse: 0.0091\n",
      "Epoch 40/100\n",
      "48000/48000 [==============================] - 1s 23us/sample - loss: 0.0963 - mse: 0.0089 - val_loss: 0.0973 - val_mse: 0.0091\n",
      "Epoch 41/100\n",
      "48000/48000 [==============================] - 1s 23us/sample - loss: 0.0962 - mse: 0.0089 - val_loss: 0.0971 - val_mse: 0.0091\n",
      "Epoch 42/100\n",
      "48000/48000 [==============================] - 1s 23us/sample - loss: 0.0961 - mse: 0.0089 - val_loss: 0.0970 - val_mse: 0.0091\n",
      "Epoch 43/100\n",
      "48000/48000 [==============================] - 1s 23us/sample - loss: 0.0960 - mse: 0.0089 - val_loss: 0.0969 - val_mse: 0.0091\n",
      "Epoch 44/100\n",
      "48000/48000 [==============================] - 1s 23us/sample - loss: 0.0959 - mse: 0.0089 - val_loss: 0.0968 - val_mse: 0.0091\n",
      "Epoch 45/100\n",
      "48000/48000 [==============================] - 1s 23us/sample - loss: 0.0958 - mse: 0.0089 - val_loss: 0.0968 - val_mse: 0.0091\n",
      "Epoch 46/100\n",
      "48000/48000 [==============================] - 1s 24us/sample - loss: 0.0957 - mse: 0.0089 - val_loss: 0.0967 - val_mse: 0.0091\n",
      "Epoch 47/100\n",
      "48000/48000 [==============================] - 1s 24us/sample - loss: 0.0956 - mse: 0.0088 - val_loss: 0.0966 - val_mse: 0.0091\n",
      "Epoch 48/100\n",
      "48000/48000 [==============================] - 1s 23us/sample - loss: 0.0955 - mse: 0.0088 - val_loss: 0.0965 - val_mse: 0.0090\n",
      "Epoch 49/100\n",
      "48000/48000 [==============================] - 1s 23us/sample - loss: 0.0955 - mse: 0.0088 - val_loss: 0.0964 - val_mse: 0.0090\n",
      "Epoch 50/100\n",
      "48000/48000 [==============================] - 1s 24us/sample - loss: 0.0954 - mse: 0.0088 - val_loss: 0.0964 - val_mse: 0.0090\n",
      "Epoch 51/100\n",
      "48000/48000 [==============================] - 1s 24us/sample - loss: 0.0953 - mse: 0.0088 - val_loss: 0.0963 - val_mse: 0.0090\n",
      "Epoch 52/100\n",
      "48000/48000 [==============================] - 1s 24us/sample - loss: 0.0952 - mse: 0.0088 - val_loss: 0.0962 - val_mse: 0.0090\n",
      "Epoch 53/100\n",
      "48000/48000 [==============================] - 1s 24us/sample - loss: 0.0951 - mse: 0.0088 - val_loss: 0.0961 - val_mse: 0.0090\n",
      "Epoch 54/100\n",
      "48000/48000 [==============================] - 1s 24us/sample - loss: 0.0951 - mse: 0.0088 - val_loss: 0.0960 - val_mse: 0.0090\n",
      "Epoch 55/100\n",
      "48000/48000 [==============================] - 1s 24us/sample - loss: 0.0950 - mse: 0.0088 - val_loss: 0.0960 - val_mse: 0.0090\n",
      "Epoch 56/100\n",
      "48000/48000 [==============================] - 1s 24us/sample - loss: 0.0949 - mse: 0.0088 - val_loss: 0.0959 - val_mse: 0.0090\n",
      "Epoch 57/100\n",
      "48000/48000 [==============================] - 1s 24us/sample - loss: 0.0949 - mse: 0.0088 - val_loss: 0.0959 - val_mse: 0.0090\n",
      "Epoch 58/100\n",
      "48000/48000 [==============================] - 1s 24us/sample - loss: 0.0948 - mse: 0.0088 - val_loss: 0.0958 - val_mse: 0.0090\n",
      "Epoch 59/100\n",
      "48000/48000 [==============================] - 1s 24us/sample - loss: 0.0947 - mse: 0.0088 - val_loss: 0.0958 - val_mse: 0.0090\n",
      "Epoch 60/100\n",
      "48000/48000 [==============================] - 1s 24us/sample - loss: 0.0947 - mse: 0.0087 - val_loss: 0.0957 - val_mse: 0.0090\n",
      "Epoch 61/100\n",
      "48000/48000 [==============================] - 1s 24us/sample - loss: 0.0946 - mse: 0.0087 - val_loss: 0.0956 - val_mse: 0.0089\n",
      "Epoch 62/100\n",
      "48000/48000 [==============================] - 1s 24us/sample - loss: 0.0945 - mse: 0.0087 - val_loss: 0.0956 - val_mse: 0.0090\n",
      "Epoch 63/100\n",
      "48000/48000 [==============================] - 1s 24us/sample - loss: 0.0945 - mse: 0.0087 - val_loss: 0.0955 - val_mse: 0.0090\n",
      "Epoch 64/100\n",
      "48000/48000 [==============================] - 1s 24us/sample - loss: 0.0944 - mse: 0.0087 - val_loss: 0.0955 - val_mse: 0.0089\n",
      "Epoch 65/100\n",
      "48000/48000 [==============================] - 1s 24us/sample - loss: 0.0944 - mse: 0.0087 - val_loss: 0.0954 - val_mse: 0.0089\n",
      "Epoch 66/100\n",
      "48000/48000 [==============================] - 1s 24us/sample - loss: 0.0943 - mse: 0.0087 - val_loss: 0.0953 - val_mse: 0.0089\n",
      "Epoch 67/100\n",
      "48000/48000 [==============================] - 1s 24us/sample - loss: 0.0943 - mse: 0.0087 - val_loss: 0.0954 - val_mse: 0.0090\n",
      "Epoch 68/100\n",
      "48000/48000 [==============================] - 1s 24us/sample - loss: 0.0942 - mse: 0.0087 - val_loss: 0.0953 - val_mse: 0.0089\n",
      "Epoch 69/100\n",
      "48000/48000 [==============================] - 1s 24us/sample - loss: 0.0942 - mse: 0.0087 - val_loss: 0.0953 - val_mse: 0.0089\n",
      "Epoch 70/100\n",
      "48000/48000 [==============================] - 1s 24us/sample - loss: 0.0941 - mse: 0.0087 - val_loss: 0.0952 - val_mse: 0.0089\n",
      "Epoch 71/100\n",
      "48000/48000 [==============================] - 1s 23us/sample - loss: 0.0941 - mse: 0.0087 - val_loss: 0.0952 - val_mse: 0.0089\n",
      "Epoch 72/100\n",
      "48000/48000 [==============================] - 1s 24us/sample - loss: 0.0940 - mse: 0.0087 - val_loss: 0.0951 - val_mse: 0.0089\n",
      "Epoch 73/100\n",
      "48000/48000 [==============================] - 1s 24us/sample - loss: 0.0940 - mse: 0.0087 - val_loss: 0.0951 - val_mse: 0.0089\n",
      "Epoch 74/100\n",
      "48000/48000 [==============================] - 1s 24us/sample - loss: 0.0940 - mse: 0.0087 - val_loss: 0.0950 - val_mse: 0.0089\n",
      "Epoch 75/100\n",
      "48000/48000 [==============================] - 1s 24us/sample - loss: 0.0939 - mse: 0.0087 - val_loss: 0.0950 - val_mse: 0.0089\n",
      "Epoch 76/100\n",
      "48000/48000 [==============================] - 1s 23us/sample - loss: 0.0939 - mse: 0.0087 - val_loss: 0.0949 - val_mse: 0.0089\n",
      "Epoch 77/100\n",
      "48000/48000 [==============================] - 1s 23us/sample - loss: 0.0938 - mse: 0.0087 - val_loss: 0.0949 - val_mse: 0.0089\n",
      "Epoch 78/100\n",
      "48000/48000 [==============================] - 1s 24us/sample - loss: 0.0938 - mse: 0.0087 - val_loss: 0.0949 - val_mse: 0.0089\n",
      "Epoch 79/100\n",
      "48000/48000 [==============================] - 1s 23us/sample - loss: 0.0937 - mse: 0.0087 - val_loss: 0.0948 - val_mse: 0.0089\n",
      "Epoch 80/100\n",
      "48000/48000 [==============================] - 1s 23us/sample - loss: 0.0937 - mse: 0.0087 - val_loss: 0.0948 - val_mse: 0.0089\n",
      "Epoch 81/100\n",
      "48000/48000 [==============================] - 1s 23us/sample - loss: 0.0937 - mse: 0.0087 - val_loss: 0.0948 - val_mse: 0.0089\n",
      "Epoch 82/100\n",
      "48000/48000 [==============================] - 1s 23us/sample - loss: 0.0936 - mse: 0.0087 - val_loss: 0.0947 - val_mse: 0.0089\n",
      "Epoch 83/100\n",
      "48000/48000 [==============================] - 1s 23us/sample - loss: 0.0936 - mse: 0.0086 - val_loss: 0.0947 - val_mse: 0.0089\n",
      "Epoch 84/100\n",
      "48000/48000 [==============================] - 1s 23us/sample - loss: 0.0936 - mse: 0.0086 - val_loss: 0.0947 - val_mse: 0.0089\n",
      "Epoch 85/100\n",
      "48000/48000 [==============================] - 1s 23us/sample - loss: 0.0935 - mse: 0.0086 - val_loss: 0.0946 - val_mse: 0.0089\n",
      "Epoch 86/100\n",
      "48000/48000 [==============================] - 1s 22us/sample - loss: 0.0935 - mse: 0.0086 - val_loss: 0.0945 - val_mse: 0.0089\n",
      "Epoch 87/100\n",
      "48000/48000 [==============================] - 1s 22us/sample - loss: 0.0935 - mse: 0.0086 - val_loss: 0.0945 - val_mse: 0.0089\n",
      "Epoch 88/100\n",
      "48000/48000 [==============================] - 1s 23us/sample - loss: 0.0934 - mse: 0.0086 - val_loss: 0.0944 - val_mse: 0.0088\n",
      "Epoch 89/100\n",
      "48000/48000 [==============================] - 1s 23us/sample - loss: 0.0934 - mse: 0.0086 - val_loss: 0.0945 - val_mse: 0.0089\n",
      "Epoch 90/100\n",
      "48000/48000 [==============================] - 1s 23us/sample - loss: 0.0934 - mse: 0.0086 - val_loss: 0.0944 - val_mse: 0.0088\n",
      "Epoch 91/100\n",
      "48000/48000 [==============================] - 1s 23us/sample - loss: 0.0933 - mse: 0.0086 - val_loss: 0.0944 - val_mse: 0.0089\n",
      "Epoch 92/100\n",
      "48000/48000 [==============================] - 1s 23us/sample - loss: 0.0933 - mse: 0.0086 - val_loss: 0.0944 - val_mse: 0.0089\n",
      "Epoch 93/100\n",
      "48000/48000 [==============================] - 1s 24us/sample - loss: 0.0933 - mse: 0.0086 - val_loss: 0.0943 - val_mse: 0.0088\n",
      "Epoch 94/100\n",
      "48000/48000 [==============================] - 1s 24us/sample - loss: 0.0932 - mse: 0.0086 - val_loss: 0.0944 - val_mse: 0.0089\n",
      "Epoch 95/100\n",
      "48000/48000 [==============================] - 1s 23us/sample - loss: 0.0932 - mse: 0.0086 - val_loss: 0.0943 - val_mse: 0.0088\n",
      "Epoch 96/100\n",
      "48000/48000 [==============================] - 1s 23us/sample - loss: 0.0932 - mse: 0.0086 - val_loss: 0.0943 - val_mse: 0.0089\n",
      "Epoch 97/100\n",
      "48000/48000 [==============================] - 1s 23us/sample - loss: 0.0931 - mse: 0.0086 - val_loss: 0.0942 - val_mse: 0.0088\n",
      "Epoch 98/100\n",
      "48000/48000 [==============================] - 1s 23us/sample - loss: 0.0931 - mse: 0.0086 - val_loss: 0.0942 - val_mse: 0.0088\n",
      "Epoch 99/100\n",
      "48000/48000 [==============================] - 1s 23us/sample - loss: 0.0931 - mse: 0.0086 - val_loss: 0.0942 - val_mse: 0.0088\n",
      "Epoch 100/100\n",
      "48000/48000 [==============================] - 1s 23us/sample - loss: 0.0930 - mse: 0.0086 - val_loss: 0.0942 - val_mse: 0.0088\n"
     ]
    },
    {
     "data": {
      "text/plain": [
       "<tensorflow.python.keras.callbacks.History at 0x7f9360995e80>"
      ]
     },
     "execution_count": 14,
     "metadata": {},
     "output_type": "execute_result"
    }
   ],
   "source": [
    "sparsity_model.fit(X_train, X_train, epochs=100, batch_size=256,shuffle = True,verbose=True,validation_split = 0.2)"
   ]
  },
  {
   "cell_type": "code",
   "execution_count": 15,
   "metadata": {},
   "outputs": [],
   "source": [
    "X_train_decode = sparsity_model(X_train)\n",
    "X_train_pre = sparsity_encoder(X_train)"
   ]
  },
  {
   "cell_type": "code",
   "execution_count": 16,
   "metadata": {},
   "outputs": [
    {
     "data": {
      "image/png": "[encoded data removed]",
      "text/plain": [
       "<Figure size 1440x288 with 30 Axes>"
      ]
     },
     "metadata": {
      "needs_background": "light"
     },
     "output_type": "display_data"
    }
   ],
   "source": [
    "n = 10 \n",
    "plt.figure(figsize=(20, 4))\n",
    "for i in range(n):\n",
    "    # 원본 데이터\n",
    "    ax = plt.subplot(3, n, i + 1)\n",
    "    plt.imshow(np.reshape(X_train[i],[28, 28]))\n",
    "    plt.gray()\n",
    "    ax.get_xaxis().set_visible(False)\n",
    "    ax.get_yaxis().set_visible(False)\n",
    "\n",
    "    # 재구성된 데이터\n",
    "    ax = plt.subplot(3, n, i + 1 + n)\n",
    "    plt.imshow(np.reshape(X_train_decode[i],[28, 28]))\n",
    "    plt.gray()\n",
    "    ax.get_xaxis().set_visible(False)\n",
    "    ax.get_yaxis().set_visible(False)\n",
    "    \n",
    "    # encoding 데이터\n",
    "    ax = plt.subplot(3, n, i + 11 + n)\n",
    "    plt.imshow(np.reshape(X_train_pre[i],[6, 6]))\n",
    "    plt.gray()\n",
    "    ax.get_xaxis().set_visible(False)\n",
    "    ax.get_yaxis().set_visible(False)\n",
    "plt.show()"
   ]
  },
  {
   "cell_type": "markdown",
   "metadata": {},
   "source": [
    "이전 모델과 거의 비슷해 보인다. 유일한 차이는 학습 방법에 의한 인코딩된 표현의 sparsity이다. 이로 인해 좀 더 sparser한 인코딩된 표현을 얻을 수 있다."
   ]
  },
  {
   "cell_type": "markdown",
   "metadata": {},
   "source": [
    "## deep autoencoder"
   ]
  },
  {
   "cell_type": "markdown",
   "metadata": {},
   "source": [
    "autoencoder는 모델 깊이의 제한은 없다. 좀 더 깊은 모델을 만들어 보자."
   ]
  },
  {
   "cell_type": "code",
   "execution_count": 17,
   "metadata": {},
   "outputs": [],
   "source": [
    "def make_deep_encoder_model():\n",
    "    input_layer = tf.keras.layers.Input(shape = (784))\n",
    "    layer1 = tf.keras.layers.Dense(400, activation='relu')(input_layer)\n",
    "    encode = tf.keras.layers.Dense(100, activation='relu')(layer1)    \n",
    "    layer1 = tf.keras.layers.Dense(400, activation='relu')(encode)\n",
    "    output_layer = tf.keras.layers.Dense(784, activation='sigmoid')(layer1)    \n",
    "    \n",
    "    model = tf.keras.Model(inputs=input_layer,outputs=output_layer)\n",
    "    \n",
    "    encoder = tf.keras.Model(inputs=input_layer,outputs=encode)\n",
    "\n",
    "    model.compile(loss='binary_crossentropy', optimizer='adam', metrics=['mse'])\n",
    "    \n",
    "    return model,encoder"
   ]
  },
  {
   "cell_type": "code",
   "execution_count": 18,
   "metadata": {},
   "outputs": [],
   "source": [
    "deep_model, deep_encoder = make_deep_encoder_model()"
   ]
  },
  {
   "cell_type": "code",
   "execution_count": 19,
   "metadata": {
    "scrolled": true
   },
   "outputs": [
    {
     "name": "stdout",
     "output_type": "stream",
     "text": [
      "Train on 48000 samples, validate on 12000 samples\n",
      "Epoch 1/100\n",
      "48000/48000 [==============================] - 3s 54us/sample - loss: 0.2002 - mse: 0.0450 - val_loss: 0.1181 - val_mse: 0.0179\n",
      "Epoch 2/100\n",
      "48000/48000 [==============================] - 2s 48us/sample - loss: 0.1039 - mse: 0.0135 - val_loss: 0.0952 - val_mse: 0.0107\n",
      "Epoch 3/100\n",
      "48000/48000 [==============================] - 2s 48us/sample - loss: 0.0905 - mse: 0.0092 - val_loss: 0.0878 - val_mse: 0.0083\n",
      "Epoch 4/100\n",
      "48000/48000 [==============================] - 2s 48us/sample - loss: 0.0847 - mse: 0.0074 - val_loss: 0.0837 - val_mse: 0.0071\n",
      "Epoch 5/100\n",
      "48000/48000 [==============================] - 2s 47us/sample - loss: 0.0811 - mse: 0.0063 - val_loss: 0.0804 - val_mse: 0.0060\n",
      "Epoch 6/100\n",
      "48000/48000 [==============================] - 2s 47us/sample - loss: 0.0785 - mse: 0.0055 - val_loss: 0.0784 - val_mse: 0.0054\n",
      "Epoch 7/100\n",
      "48000/48000 [==============================] - 2s 48us/sample - loss: 0.0768 - mse: 0.0050 - val_loss: 0.0770 - val_mse: 0.0050\n",
      "Epoch 8/100\n",
      "48000/48000 [==============================] - 2s 48us/sample - loss: 0.0755 - mse: 0.0046 - val_loss: 0.0760 - val_mse: 0.0046\n",
      "Epoch 9/100\n",
      "48000/48000 [==============================] - 2s 48us/sample - loss: 0.0745 - mse: 0.0043 - val_loss: 0.0750 - val_mse: 0.0044\n",
      "Epoch 10/100\n",
      "48000/48000 [==============================] - 2s 48us/sample - loss: 0.0737 - mse: 0.0040 - val_loss: 0.0744 - val_mse: 0.0042\n",
      "Epoch 11/100\n",
      "48000/48000 [==============================] - 2s 48us/sample - loss: 0.0729 - mse: 0.0038 - val_loss: 0.0738 - val_mse: 0.0040\n",
      "Epoch 12/100\n",
      "48000/48000 [==============================] - 2s 48us/sample - loss: 0.0724 - mse: 0.0037 - val_loss: 0.0733 - val_mse: 0.0038\n",
      "Epoch 13/100\n",
      "48000/48000 [==============================] - 2s 48us/sample - loss: 0.0719 - mse: 0.0035 - val_loss: 0.0726 - val_mse: 0.0036\n",
      "Epoch 14/100\n",
      "48000/48000 [==============================] - 2s 48us/sample - loss: 0.0715 - mse: 0.0034 - val_loss: 0.0725 - val_mse: 0.0036\n",
      "Epoch 15/100\n",
      "48000/48000 [==============================] - 2s 48us/sample - loss: 0.0711 - mse: 0.0033 - val_loss: 0.0718 - val_mse: 0.0034\n",
      "Epoch 16/100\n",
      "48000/48000 [==============================] - 2s 47us/sample - loss: 0.0708 - mse: 0.0032 - val_loss: 0.0715 - val_mse: 0.0033\n",
      "Epoch 17/100\n",
      "48000/48000 [==============================] - 2s 48us/sample - loss: 0.0705 - mse: 0.0031 - val_loss: 0.0712 - val_mse: 0.0032\n",
      "Epoch 18/100\n",
      "48000/48000 [==============================] - 2s 48us/sample - loss: 0.0702 - mse: 0.0030 - val_loss: 0.0710 - val_mse: 0.0031\n",
      "Epoch 19/100\n",
      "48000/48000 [==============================] - 2s 48us/sample - loss: 0.0699 - mse: 0.0029 - val_loss: 0.0708 - val_mse: 0.0031\n",
      "Epoch 20/100\n",
      "48000/48000 [==============================] - 2s 48us/sample - loss: 0.0698 - mse: 0.0029 - val_loss: 0.0710 - val_mse: 0.0031\n",
      "Epoch 21/100\n",
      "48000/48000 [==============================] - 2s 48us/sample - loss: 0.0696 - mse: 0.0028 - val_loss: 0.0704 - val_mse: 0.0029\n",
      "Epoch 22/100\n",
      "48000/48000 [==============================] - 2s 47us/sample - loss: 0.0693 - mse: 0.0027 - val_loss: 0.0702 - val_mse: 0.0029\n",
      "Epoch 23/100\n",
      "48000/48000 [==============================] - 2s 48us/sample - loss: 0.0692 - mse: 0.0027 - val_loss: 0.0700 - val_mse: 0.0028\n",
      "Epoch 24/100\n",
      "48000/48000 [==============================] - 2s 48us/sample - loss: 0.0690 - mse: 0.0027 - val_loss: 0.0702 - val_mse: 0.0029\n",
      "Epoch 25/100\n",
      "48000/48000 [==============================] - 2s 48us/sample - loss: 0.0688 - mse: 0.0026 - val_loss: 0.0700 - val_mse: 0.0028\n",
      "Epoch 26/100\n",
      "48000/48000 [==============================] - 2s 48us/sample - loss: 0.0687 - mse: 0.0026 - val_loss: 0.0696 - val_mse: 0.0027\n",
      "Epoch 27/100\n",
      "48000/48000 [==============================] - 2s 48us/sample - loss: 0.0686 - mse: 0.0025 - val_loss: 0.0693 - val_mse: 0.0027\n",
      "Epoch 28/100\n",
      "48000/48000 [==============================] - 2s 48us/sample - loss: 0.0685 - mse: 0.0025 - val_loss: 0.0693 - val_mse: 0.0027\n",
      "Epoch 29/100\n",
      "48000/48000 [==============================] - 2s 48us/sample - loss: 0.0683 - mse: 0.0025 - val_loss: 0.0692 - val_mse: 0.0026\n",
      "Epoch 30/100\n",
      "48000/48000 [==============================] - 2s 48us/sample - loss: 0.0682 - mse: 0.0024 - val_loss: 0.0694 - val_mse: 0.0027\n",
      "Epoch 31/100\n",
      "48000/48000 [==============================] - 2s 48us/sample - loss: 0.0682 - mse: 0.0024 - val_loss: 0.0690 - val_mse: 0.0026\n",
      "Epoch 32/100\n",
      "48000/48000 [==============================] - 2s 48us/sample - loss: 0.0681 - mse: 0.0024 - val_loss: 0.0692 - val_mse: 0.0026\n",
      "Epoch 33/100\n",
      "48000/48000 [==============================] - 2s 48us/sample - loss: 0.0680 - mse: 0.0024 - val_loss: 0.0689 - val_mse: 0.0025\n",
      "Epoch 34/100\n",
      "48000/48000 [==============================] - 2s 48us/sample - loss: 0.0678 - mse: 0.0023 - val_loss: 0.0691 - val_mse: 0.0026\n",
      "Epoch 35/100\n",
      "48000/48000 [==============================] - 2s 48us/sample - loss: 0.0678 - mse: 0.0023 - val_loss: 0.0689 - val_mse: 0.0025\n",
      "Epoch 36/100\n",
      "48000/48000 [==============================] - 2s 48us/sample - loss: 0.0677 - mse: 0.0023 - val_loss: 0.0688 - val_mse: 0.0025\n",
      "Epoch 37/100\n",
      "48000/48000 [==============================] - 2s 48us/sample - loss: 0.0676 - mse: 0.0023 - val_loss: 0.0687 - val_mse: 0.0025\n",
      "Epoch 38/100\n",
      "48000/48000 [==============================] - 2s 48us/sample - loss: 0.0676 - mse: 0.0023 - val_loss: 0.0687 - val_mse: 0.0025\n",
      "Epoch 39/100\n",
      "48000/48000 [==============================] - 2s 48us/sample - loss: 0.0675 - mse: 0.0022 - val_loss: 0.0685 - val_mse: 0.0024\n",
      "Epoch 40/100\n",
      "48000/48000 [==============================] - 2s 48us/sample - loss: 0.0675 - mse: 0.0022 - val_loss: 0.0684 - val_mse: 0.0024\n",
      "Epoch 41/100\n",
      "48000/48000 [==============================] - 2s 48us/sample - loss: 0.0674 - mse: 0.0022 - val_loss: 0.0684 - val_mse: 0.0024\n",
      "Epoch 42/100\n",
      "48000/48000 [==============================] - 2s 48us/sample - loss: 0.0673 - mse: 0.0022 - val_loss: 0.0683 - val_mse: 0.0023\n",
      "Epoch 43/100\n",
      "48000/48000 [==============================] - 2s 48us/sample - loss: 0.0673 - mse: 0.0022 - val_loss: 0.0683 - val_mse: 0.0024\n",
      "Epoch 44/100\n",
      "48000/48000 [==============================] - 2s 48us/sample - loss: 0.0673 - mse: 0.0022 - val_loss: 0.0682 - val_mse: 0.0023\n",
      "Epoch 45/100\n",
      "48000/48000 [==============================] - 2s 48us/sample - loss: 0.0672 - mse: 0.0022 - val_loss: 0.0683 - val_mse: 0.0024\n",
      "Epoch 46/100\n",
      "48000/48000 [==============================] - 2s 48us/sample - loss: 0.0672 - mse: 0.0021 - val_loss: 0.0682 - val_mse: 0.0023\n",
      "Epoch 47/100\n",
      "48000/48000 [==============================] - 2s 48us/sample - loss: 0.0671 - mse: 0.0021 - val_loss: 0.0681 - val_mse: 0.0023\n",
      "Epoch 48/100\n",
      "48000/48000 [==============================] - 2s 47us/sample - loss: 0.0671 - mse: 0.0021 - val_loss: 0.0682 - val_mse: 0.0023\n",
      "Epoch 49/100\n",
      "48000/48000 [==============================] - 2s 48us/sample - loss: 0.0670 - mse: 0.0021 - val_loss: 0.0681 - val_mse: 0.0023\n",
      "Epoch 50/100\n",
      "48000/48000 [==============================] - 2s 47us/sample - loss: 0.0670 - mse: 0.0021 - val_loss: 0.0682 - val_mse: 0.0023\n",
      "Epoch 51/100\n",
      "48000/48000 [==============================] - 2s 48us/sample - loss: 0.0670 - mse: 0.0021 - val_loss: 0.0680 - val_mse: 0.0023\n",
      "Epoch 52/100\n",
      "48000/48000 [==============================] - 2s 48us/sample - loss: 0.0669 - mse: 0.0021 - val_loss: 0.0680 - val_mse: 0.0023\n",
      "Epoch 53/100\n",
      "48000/48000 [==============================] - 2s 48us/sample - loss: 0.0669 - mse: 0.0021 - val_loss: 0.0678 - val_mse: 0.0022\n",
      "Epoch 54/100\n",
      "48000/48000 [==============================] - 2s 48us/sample - loss: 0.0669 - mse: 0.0021 - val_loss: 0.0678 - val_mse: 0.0022\n",
      "Epoch 55/100\n",
      "48000/48000 [==============================] - 2s 47us/sample - loss: 0.0668 - mse: 0.0020 - val_loss: 0.0679 - val_mse: 0.0023\n",
      "Epoch 56/100\n",
      "48000/48000 [==============================] - 2s 47us/sample - loss: 0.0668 - mse: 0.0020 - val_loss: 0.0679 - val_mse: 0.0022\n",
      "Epoch 57/100\n",
      "48000/48000 [==============================] - 2s 48us/sample - loss: 0.0668 - mse: 0.0020 - val_loss: 0.0679 - val_mse: 0.0022\n",
      "Epoch 58/100\n",
      "48000/48000 [==============================] - 2s 48us/sample - loss: 0.0668 - mse: 0.0020 - val_loss: 0.0678 - val_mse: 0.0022\n",
      "Epoch 59/100\n",
      "48000/48000 [==============================] - 2s 48us/sample - loss: 0.0667 - mse: 0.0020 - val_loss: 0.0678 - val_mse: 0.0022\n",
      "Epoch 60/100\n",
      "48000/48000 [==============================] - 2s 48us/sample - loss: 0.0667 - mse: 0.0020 - val_loss: 0.0677 - val_mse: 0.0022\n",
      "Epoch 61/100\n",
      "48000/48000 [==============================] - 2s 48us/sample - loss: 0.0667 - mse: 0.0020 - val_loss: 0.0678 - val_mse: 0.0022\n",
      "Epoch 62/100\n",
      "48000/48000 [==============================] - 2s 48us/sample - loss: 0.0666 - mse: 0.0020 - val_loss: 0.0678 - val_mse: 0.0022\n",
      "Epoch 63/100\n",
      "48000/48000 [==============================] - 2s 48us/sample - loss: 0.0666 - mse: 0.0020 - val_loss: 0.0677 - val_mse: 0.0022\n",
      "Epoch 64/100\n",
      "48000/48000 [==============================] - 2s 48us/sample - loss: 0.0666 - mse: 0.0020 - val_loss: 0.0677 - val_mse: 0.0022\n",
      "Epoch 65/100\n",
      "48000/48000 [==============================] - 2s 48us/sample - loss: 0.0666 - mse: 0.0020 - val_loss: 0.0677 - val_mse: 0.0022\n",
      "Epoch 66/100\n",
      "48000/48000 [==============================] - 2s 48us/sample - loss: 0.0665 - mse: 0.0020 - val_loss: 0.0676 - val_mse: 0.0022\n",
      "Epoch 67/100\n",
      "48000/48000 [==============================] - 2s 48us/sample - loss: 0.0665 - mse: 0.0020 - val_loss: 0.0675 - val_mse: 0.0021\n",
      "Epoch 68/100\n",
      "48000/48000 [==============================] - 2s 47us/sample - loss: 0.0665 - mse: 0.0019 - val_loss: 0.0675 - val_mse: 0.0021\n",
      "Epoch 69/100\n",
      "48000/48000 [==============================] - 2s 47us/sample - loss: 0.0665 - mse: 0.0019 - val_loss: 0.0676 - val_mse: 0.0022\n",
      "Epoch 70/100\n",
      "48000/48000 [==============================] - 2s 48us/sample - loss: 0.0665 - mse: 0.0019 - val_loss: 0.0677 - val_mse: 0.0022\n",
      "Epoch 71/100\n",
      "48000/48000 [==============================] - 2s 48us/sample - loss: 0.0665 - mse: 0.0019 - val_loss: 0.0676 - val_mse: 0.0022\n",
      "Epoch 72/100\n",
      "48000/48000 [==============================] - 2s 48us/sample - loss: 0.0664 - mse: 0.0019 - val_loss: 0.0675 - val_mse: 0.0021\n",
      "Epoch 73/100\n",
      "48000/48000 [==============================] - 2s 49us/sample - loss: 0.0664 - mse: 0.0019 - val_loss: 0.0674 - val_mse: 0.0021\n",
      "Epoch 74/100\n",
      "48000/48000 [==============================] - 2s 48us/sample - loss: 0.0664 - mse: 0.0019 - val_loss: 0.0675 - val_mse: 0.0021\n",
      "Epoch 75/100\n",
      "48000/48000 [==============================] - 2s 48us/sample - loss: 0.0664 - mse: 0.0019 - val_loss: 0.0675 - val_mse: 0.0021\n",
      "Epoch 76/100\n",
      "48000/48000 [==============================] - 2s 48us/sample - loss: 0.0664 - mse: 0.0019 - val_loss: 0.0676 - val_mse: 0.0022\n",
      "Epoch 77/100\n",
      "48000/48000 [==============================] - 2s 48us/sample - loss: 0.0663 - mse: 0.0019 - val_loss: 0.0674 - val_mse: 0.0021\n",
      "Epoch 78/100\n",
      "48000/48000 [==============================] - 2s 49us/sample - loss: 0.0663 - mse: 0.0019 - val_loss: 0.0675 - val_mse: 0.0021\n",
      "Epoch 79/100\n",
      "48000/48000 [==============================] - 2s 48us/sample - loss: 0.0663 - mse: 0.0019 - val_loss: 0.0673 - val_mse: 0.0021\n",
      "Epoch 80/100\n",
      "48000/48000 [==============================] - 2s 48us/sample - loss: 0.0663 - mse: 0.0019 - val_loss: 0.0673 - val_mse: 0.0021\n",
      "Epoch 81/100\n",
      "48000/48000 [==============================] - 2s 48us/sample - loss: 0.0663 - mse: 0.0019 - val_loss: 0.0674 - val_mse: 0.0021\n",
      "Epoch 82/100\n",
      "48000/48000 [==============================] - 2s 48us/sample - loss: 0.0663 - mse: 0.0019 - val_loss: 0.0674 - val_mse: 0.0021\n",
      "Epoch 83/100\n",
      "48000/48000 [==============================] - 2s 48us/sample - loss: 0.0662 - mse: 0.0019 - val_loss: 0.0673 - val_mse: 0.0021\n",
      "Epoch 84/100\n",
      "48000/48000 [==============================] - 2s 48us/sample - loss: 0.0662 - mse: 0.0019 - val_loss: 0.0673 - val_mse: 0.0021\n",
      "Epoch 85/100\n",
      "48000/48000 [==============================] - 2s 48us/sample - loss: 0.0662 - mse: 0.0019 - val_loss: 0.0672 - val_mse: 0.0021\n",
      "Epoch 86/100\n",
      "48000/48000 [==============================] - 2s 49us/sample - loss: 0.0662 - mse: 0.0019 - val_loss: 0.0672 - val_mse: 0.0021\n",
      "Epoch 87/100\n",
      "48000/48000 [==============================] - 2s 49us/sample - loss: 0.0662 - mse: 0.0019 - val_loss: 0.0672 - val_mse: 0.0021\n",
      "Epoch 88/100\n",
      "48000/48000 [==============================] - 2s 48us/sample - loss: 0.0662 - mse: 0.0019 - val_loss: 0.0674 - val_mse: 0.0021\n",
      "Epoch 89/100\n",
      "48000/48000 [==============================] - 2s 49us/sample - loss: 0.0661 - mse: 0.0019 - val_loss: 0.0672 - val_mse: 0.0021\n",
      "Epoch 90/100\n",
      "48000/48000 [==============================] - 2s 49us/sample - loss: 0.0662 - mse: 0.0019 - val_loss: 0.0673 - val_mse: 0.0021\n",
      "Epoch 91/100\n",
      "48000/48000 [==============================] - 2s 48us/sample - loss: 0.0661 - mse: 0.0019 - val_loss: 0.0674 - val_mse: 0.0021\n",
      "Epoch 92/100\n",
      "48000/48000 [==============================] - 2s 48us/sample - loss: 0.0661 - mse: 0.0019 - val_loss: 0.0672 - val_mse: 0.0021\n",
      "Epoch 93/100\n",
      "48000/48000 [==============================] - 2s 48us/sample - loss: 0.0661 - mse: 0.0018 - val_loss: 0.0673 - val_mse: 0.0021\n",
      "Epoch 94/100\n",
      "48000/48000 [==============================] - 2s 48us/sample - loss: 0.0661 - mse: 0.0018 - val_loss: 0.0672 - val_mse: 0.0021\n",
      "Epoch 95/100\n",
      "48000/48000 [==============================] - 2s 49us/sample - loss: 0.0661 - mse: 0.0018 - val_loss: 0.0672 - val_mse: 0.0021\n",
      "Epoch 96/100\n",
      "48000/48000 [==============================] - 2s 48us/sample - loss: 0.0661 - mse: 0.0018 - val_loss: 0.0673 - val_mse: 0.0021\n",
      "Epoch 97/100\n",
      "48000/48000 [==============================] - 2s 48us/sample - loss: 0.0661 - mse: 0.0018 - val_loss: 0.0673 - val_mse: 0.0021\n",
      "Epoch 98/100\n",
      "48000/48000 [==============================] - 2s 48us/sample - loss: 0.0661 - mse: 0.0018 - val_loss: 0.0672 - val_mse: 0.0020\n",
      "Epoch 99/100\n",
      "48000/48000 [==============================] - 2s 48us/sample - loss: 0.0660 - mse: 0.0018 - val_loss: 0.0672 - val_mse: 0.0021\n",
      "Epoch 100/100\n",
      "48000/48000 [==============================] - 2s 48us/sample - loss: 0.0660 - mse: 0.0018 - val_loss: 0.0673 - val_mse: 0.0021\n"
     ]
    },
    {
     "data": {
      "text/plain": [
       "<tensorflow.python.keras.callbacks.History at 0x7f9347bfa208>"
      ]
     },
     "execution_count": 19,
     "metadata": {},
     "output_type": "execute_result"
    }
   ],
   "source": [
    "deep_model.fit(X_train, X_train, epochs=100, batch_size=256,shuffle = True,verbose=True,validation_split = 0.2)"
   ]
  },
  {
   "cell_type": "code",
   "execution_count": 20,
   "metadata": {},
   "outputs": [],
   "source": [
    "X_train_decode = deep_model(X_train)\n",
    "X_train_pre = deep_encoder(X_train)"
   ]
  },
  {
   "cell_type": "code",
   "execution_count": 21,
   "metadata": {},
   "outputs": [
    {
     "data": {
      "image/png": "[encoded data removed]",
      "text/plain": [
       "<Figure size 1440x288 with 30 Axes>"
      ]
     },
     "metadata": {
      "needs_background": "light"
     },
     "output_type": "display_data"
    }
   ],
   "source": [
    "n = 10  # 몇 개의 숫자를 나타낼 것인지\n",
    "plt.figure(figsize=(20, 4))\n",
    "for i in range(n):\n",
    "    # 원본 데이터\n",
    "    ax = plt.subplot(3, n, i + 1)\n",
    "    plt.imshow(np.reshape(X_train[i],[28, 28]))\n",
    "    plt.gray()\n",
    "    ax.get_xaxis().set_visible(False)\n",
    "    ax.get_yaxis().set_visible(False)\n",
    "\n",
    "    # 재구성된 데이터\n",
    "    ax = plt.subplot(3, n, i + 1 + n)\n",
    "    plt.imshow(np.reshape(X_train_decode[i],[28, 28]))\n",
    "    plt.gray()\n",
    "    ax.get_xaxis().set_visible(False)\n",
    "    ax.get_yaxis().set_visible(False)\n",
    "    \n",
    "    # encoding 데이터\n",
    "    ax = plt.subplot(3, n, i + 11 + n)\n",
    "    plt.imshow(np.reshape(X_train_pre[i],[10, 10]))\n",
    "    plt.gray()\n",
    "    ax.get_xaxis().set_visible(False)\n",
    "    ax.get_yaxis().set_visible(False)\n",
    "plt.show()"
   ]
  },
  {
   "cell_type": "markdown",
   "metadata": {},
   "source": [
    "위의 모델들 보다 약간은 나아보이는 형태이다. loss값 또한 더 낮아짐을 볼 수 있다."
   ]
  },
  {
   "cell_type": "markdown",
   "metadata": {},
   "source": [
    "## Convolutional autoencoder"
   ]
  },
  {
   "cell_type": "markdown",
   "metadata": {},
   "source": [
    "예제에서 사용되는 데이터는 이미지이기 때문에 CNN을 이용하여 autoencoder를 구성하는 것이 가능하다. 이미지에 적용되는 autoencoder는 항상 convolutional autoencoder이다. 왜냐하면 성능이 더 좋기 때문."
   ]
  },
  {
   "cell_type": "code",
   "execution_count": 22,
   "metadata": {},
   "outputs": [],
   "source": [
    "def make_conv_encoder_model():\n",
    "    input_layer = tf.keras.layers.Input(shape=(28, 28, 1))\n",
    "    layer1 = tf.keras.layers.Conv2D(16, (3, 3), activation='relu', padding='same')(input_layer)\n",
    "    layer1 = tf.keras.layers.MaxPooling2D((2, 2), padding='same')(layer1)\n",
    "    layer1 = tf.keras.layers.Conv2D(8, (3, 3), activation='relu', padding='same')(layer1)\n",
    "    layer1 = tf.keras.layers.MaxPooling2D((2, 2), padding='same')(layer1)\n",
    "    layer1 = tf.keras.layers.Conv2D(8, (3, 3), activation='relu', padding='same')(layer1)\n",
    "    encode = tf.keras.layers.MaxPooling2D((2, 2), padding='same')(layer1)\n",
    "    \n",
    "    layer1 = tf.keras.layers.Conv2D(8, (3, 3), activation='relu', padding='same')(encode)\n",
    "    layer1 = tf.keras.layers.UpSampling2D((2, 2))(layer1)\n",
    "    layer1 = tf.keras.layers.Conv2D(8, (3, 3), activation='relu', padding='same')(layer1)\n",
    "    layer1 = tf.keras.layers.UpSampling2D((2, 2))(layer1)\n",
    "    layer1 = tf.keras.layers.Conv2D(16, (3, 3), activation='relu')(layer1)\n",
    "    layer1 = tf.keras.layers.UpSampling2D((2, 2))(layer1)\n",
    "    output_layer = tf.keras.layers.Conv2D(1, (3, 3), activation='sigmoid', padding='same')(layer1)\n",
    "\n",
    "    model = tf.keras.Model(inputs=input_layer,outputs=output_layer)\n",
    "    \n",
    "    encoder = tf.keras.Model(inputs=input_layer,outputs=encode)\n",
    "\n",
    "    model.compile(loss='binary_crossentropy', optimizer='adam', metrics=['mse'])\n",
    "    \n",
    "    return model,encoder"
   ]
  },
  {
   "cell_type": "code",
   "execution_count": 23,
   "metadata": {},
   "outputs": [],
   "source": [
    "conv_model, conv_encoder = make_conv_encoder_model()"
   ]
  },
  {
   "cell_type": "code",
   "execution_count": 24,
   "metadata": {},
   "outputs": [],
   "source": [
    "(x_train, _), (x_test, _) = tf.keras.datasets.mnist.load_data()\n",
    "\n",
    "x_train = x_train.astype('float32') / 255.\n",
    "x_test = x_test.astype('float32') / 255.\n",
    "x_train = np.reshape(x_train, (len(x_train), 28, 28, 1))\n",
    "x_test = np.reshape(x_test, (len(x_test), 28, 28, 1))"
   ]
  },
  {
   "cell_type": "code",
   "execution_count": 25,
   "metadata": {},
   "outputs": [
    {
     "name": "stdout",
     "output_type": "stream",
     "text": [
      "Train on 48000 samples, validate on 12000 samples\n",
      "Epoch 1/50\n",
      "48000/48000 [==============================] - 36s 746us/sample - loss: 0.2946 - mse: 0.0764 - val_loss: 0.1879 - val_mse: 0.0436\n",
      "Epoch 2/50\n",
      "48000/48000 [==============================] - 35s 734us/sample - loss: 0.1686 - mse: 0.0368 - val_loss: 0.1571 - val_mse: 0.0326\n",
      "Epoch 3/50\n",
      "48000/48000 [==============================] - 36s 740us/sample - loss: 0.1473 - mse: 0.0291 - val_loss: 0.1417 - val_mse: 0.0269\n",
      "Epoch 4/50\n",
      "48000/48000 [==============================] - 36s 745us/sample - loss: 0.1363 - mse: 0.0251 - val_loss: 0.1330 - val_mse: 0.0239\n",
      "Epoch 5/50\n",
      "48000/48000 [==============================] - 36s 747us/sample - loss: 0.1296 - mse: 0.0228 - val_loss: 0.1277 - val_mse: 0.0221\n",
      "Epoch 6/50\n",
      "48000/48000 [==============================] - 35s 738us/sample - loss: 0.1253 - mse: 0.0213 - val_loss: 0.1241 - val_mse: 0.0208\n",
      "Epoch 7/50\n",
      "48000/48000 [==============================] - 35s 733us/sample - loss: 0.1219 - mse: 0.0201 - val_loss: 0.1222 - val_mse: 0.0201\n",
      "Epoch 8/50\n",
      "48000/48000 [==============================] - 35s 733us/sample - loss: 0.1190 - mse: 0.0191 - val_loss: 0.1189 - val_mse: 0.0189\n",
      "Epoch 9/50\n",
      "48000/48000 [==============================] - 35s 734us/sample - loss: 0.1167 - mse: 0.0183 - val_loss: 0.1169 - val_mse: 0.0183\n",
      "Epoch 10/50\n",
      "48000/48000 [==============================] - 35s 728us/sample - loss: 0.1149 - mse: 0.0177 - val_loss: 0.1148 - val_mse: 0.0176\n",
      "Epoch 11/50\n",
      "48000/48000 [==============================] - 35s 729us/sample - loss: 0.1133 - mse: 0.0172 - val_loss: 0.1134 - val_mse: 0.0171\n",
      "Epoch 12/50\n",
      "48000/48000 [==============================] - 35s 730us/sample - loss: 0.1121 - mse: 0.0168 - val_loss: 0.1124 - val_mse: 0.0168\n",
      "Epoch 13/50\n",
      "48000/48000 [==============================] - 35s 732us/sample - loss: 0.1110 - mse: 0.0164 - val_loss: 0.1115 - val_mse: 0.0164\n",
      "Epoch 14/50\n",
      "48000/48000 [==============================] - 35s 731us/sample - loss: 0.1101 - mse: 0.0161 - val_loss: 0.1109 - val_mse: 0.0162\n",
      "Epoch 15/50\n",
      "48000/48000 [==============================] - 35s 733us/sample - loss: 0.1093 - mse: 0.0159 - val_loss: 0.1095 - val_mse: 0.0158\n",
      "Epoch 16/50\n",
      "48000/48000 [==============================] - 35s 734us/sample - loss: 0.1084 - mse: 0.0156 - val_loss: 0.1098 - val_mse: 0.0160\n",
      "Epoch 17/50\n",
      "48000/48000 [==============================] - 35s 730us/sample - loss: 0.1078 - mse: 0.0154 - val_loss: 0.1081 - val_mse: 0.0153\n",
      "Epoch 18/50\n",
      "48000/48000 [==============================] - 35s 737us/sample - loss: 0.1072 - mse: 0.0152 - val_loss: 0.1075 - val_mse: 0.0152\n",
      "Epoch 19/50\n",
      "48000/48000 [==============================] - 35s 727us/sample - loss: 0.1065 - mse: 0.0149 - val_loss: 0.1069 - val_mse: 0.0149\n",
      "Epoch 20/50\n",
      "48000/48000 [==============================] - 35s 724us/sample - loss: 0.1060 - mse: 0.0148 - val_loss: 0.1064 - val_mse: 0.0148\n",
      "Epoch 21/50\n",
      "48000/48000 [==============================] - 35s 729us/sample - loss: 0.1054 - mse: 0.0146 - val_loss: 0.1059 - val_mse: 0.0146\n",
      "Epoch 22/50\n",
      "48000/48000 [==============================] - 35s 731us/sample - loss: 0.1049 - mse: 0.0144 - val_loss: 0.1054 - val_mse: 0.0144\n",
      "Epoch 23/50\n",
      "48000/48000 [==============================] - 35s 729us/sample - loss: 0.1044 - mse: 0.0142 - val_loss: 0.1048 - val_mse: 0.0142\n",
      "Epoch 24/50\n",
      "48000/48000 [==============================] - 35s 734us/sample - loss: 0.1040 - mse: 0.0141 - val_loss: 0.1052 - val_mse: 0.0143\n",
      "Epoch 25/50\n",
      "48000/48000 [==============================] - 35s 731us/sample - loss: 0.1036 - mse: 0.0140 - val_loss: 0.1041 - val_mse: 0.0140\n",
      "Epoch 26/50\n",
      "48000/48000 [==============================] - 35s 727us/sample - loss: 0.1032 - mse: 0.0138 - val_loss: 0.1039 - val_mse: 0.0139\n",
      "Epoch 27/50\n",
      "48000/48000 [==============================] - 35s 727us/sample - loss: 0.1028 - mse: 0.0137 - val_loss: 0.1034 - val_mse: 0.0138\n",
      "Epoch 28/50\n",
      "48000/48000 [==============================] - 35s 733us/sample - loss: 0.1024 - mse: 0.0136 - val_loss: 0.1033 - val_mse: 0.0137\n",
      "Epoch 29/50\n",
      "48000/48000 [==============================] - 35s 728us/sample - loss: 0.1021 - mse: 0.0135 - val_loss: 0.1028 - val_mse: 0.0135\n",
      "Epoch 30/50\n",
      "48000/48000 [==============================] - 35s 726us/sample - loss: 0.1018 - mse: 0.0134 - val_loss: 0.1024 - val_mse: 0.0134\n",
      "Epoch 31/50\n",
      "48000/48000 [==============================] - 35s 725us/sample - loss: 0.1015 - mse: 0.0133 - val_loss: 0.1021 - val_mse: 0.0133\n",
      "Epoch 32/50\n",
      "48000/48000 [==============================] - 35s 732us/sample - loss: 0.1012 - mse: 0.0132 - val_loss: 0.1019 - val_mse: 0.0133\n",
      "Epoch 33/50\n",
      "48000/48000 [==============================] - 35s 732us/sample - loss: 0.1009 - mse: 0.0130 - val_loss: 0.1025 - val_mse: 0.0135\n",
      "Epoch 34/50\n",
      "48000/48000 [==============================] - 33s 696us/sample - loss: 0.1008 - mse: 0.0130 - val_loss: 0.1014 - val_mse: 0.0131\n",
      "Epoch 35/50\n",
      "48000/48000 [==============================] - 33s 678us/sample - loss: 0.1005 - mse: 0.0129 - val_loss: 0.1011 - val_mse: 0.0130\n",
      "Epoch 36/50\n",
      "48000/48000 [==============================] - 31s 651us/sample - loss: 0.1003 - mse: 0.0128 - val_loss: 0.1017 - val_mse: 0.0132\n",
      "Epoch 37/50\n",
      "48000/48000 [==============================] - 31s 641us/sample - loss: 0.1001 - mse: 0.0128 - val_loss: 0.1006 - val_mse: 0.0128\n",
      "Epoch 38/50\n",
      "48000/48000 [==============================] - 31s 639us/sample - loss: 0.0998 - mse: 0.0127 - val_loss: 0.1006 - val_mse: 0.0128\n",
      "Epoch 39/50\n",
      "48000/48000 [==============================] - 31s 640us/sample - loss: 0.0997 - mse: 0.0126 - val_loss: 0.1003 - val_mse: 0.0127\n",
      "Epoch 40/50\n",
      "48000/48000 [==============================] - 31s 639us/sample - loss: 0.0994 - mse: 0.0126 - val_loss: 0.1002 - val_mse: 0.0127\n",
      "Epoch 41/50\n",
      "48000/48000 [==============================] - 31s 645us/sample - loss: 0.0993 - mse: 0.0125 - val_loss: 0.0999 - val_mse: 0.0126\n",
      "Epoch 42/50\n",
      "48000/48000 [==============================] - 31s 639us/sample - loss: 0.0991 - mse: 0.0125 - val_loss: 0.0998 - val_mse: 0.0126\n",
      "Epoch 43/50\n",
      "48000/48000 [==============================] - 31s 645us/sample - loss: 0.0990 - mse: 0.0124 - val_loss: 0.0999 - val_mse: 0.0126\n",
      "Epoch 44/50\n",
      "48000/48000 [==============================] - 31s 643us/sample - loss: 0.0988 - mse: 0.0124 - val_loss: 0.1008 - val_mse: 0.0129\n",
      "Epoch 45/50\n",
      "48000/48000 [==============================] - 31s 636us/sample - loss: 0.0986 - mse: 0.0123 - val_loss: 0.0994 - val_mse: 0.0124\n",
      "Epoch 46/50\n",
      "48000/48000 [==============================] - 31s 644us/sample - loss: 0.0985 - mse: 0.0123 - val_loss: 0.0995 - val_mse: 0.0124\n",
      "Epoch 47/50\n",
      "48000/48000 [==============================] - 31s 638us/sample - loss: 0.0984 - mse: 0.0122 - val_loss: 0.0994 - val_mse: 0.0124\n",
      "Epoch 48/50\n",
      "48000/48000 [==============================] - 31s 641us/sample - loss: 0.0982 - mse: 0.0121 - val_loss: 0.0990 - val_mse: 0.0123\n",
      "Epoch 49/50\n",
      "48000/48000 [==============================] - 31s 638us/sample - loss: 0.0980 - mse: 0.0121 - val_loss: 0.0990 - val_mse: 0.0123\n",
      "Epoch 50/50\n",
      "48000/48000 [==============================] - 31s 640us/sample - loss: 0.0979 - mse: 0.0121 - val_loss: 0.0989 - val_mse: 0.0123\n"
     ]
    },
    {
     "data": {
      "text/plain": [
       "<tensorflow.python.keras.callbacks.History at 0x7f93609b4a58>"
      ]
     },
     "execution_count": 25,
     "metadata": {},
     "output_type": "execute_result"
    }
   ],
   "source": [
    "conv_model.fit(x_train, x_train, epochs=50, batch_size=256,shuffle = True,verbose=True,validation_split = 0.2)"
   ]
  },
  {
   "cell_type": "code",
   "execution_count": 26,
   "metadata": {},
   "outputs": [],
   "source": [
    "X_test_decode = conv_model(x_test)\n",
    "X_test_pre = conv_encoder(x_test)"
   ]
  },
  {
   "cell_type": "code",
   "execution_count": 27,
   "metadata": {},
   "outputs": [
    {
     "data": {
      "image/png": "[encoded data removed]",
      "text/plain": [
       "<Figure size 1440x288 with 20 Axes>"
      ]
     },
     "metadata": {
      "needs_background": "light"
     },
     "output_type": "display_data"
    }
   ],
   "source": [
    "n = 10\n",
    "plt.figure(figsize=(20, 4))\n",
    "for i in range(n):\n",
    "    # 원본 데이터\n",
    "    ax = plt.subplot(3, n, i + 1)\n",
    "    plt.imshow(np.reshape(x_test[i],[28, 28]))\n",
    "    plt.gray()\n",
    "    ax.get_xaxis().set_visible(False)\n",
    "    ax.get_yaxis().set_visible(False)\n",
    "\n",
    "    # 재구성된 데이터\n",
    "    ax = plt.subplot(3, n, i + 1 + n)\n",
    "    plt.imshow(np.reshape(X_test_decode[i],[28, 28]))\n",
    "    plt.gray()\n",
    "    ax.get_xaxis().set_visible(False)\n",
    "    ax.get_yaxis().set_visible(False)\n",
    "plt.show()"
   ]
  },
  {
   "cell_type": "code",
   "execution_count": 28,
   "metadata": {},
   "outputs": [
    {
     "data": {
      "image/png": "[encoded data removed]",
      "text/plain": [
       "<Figure size 1440x576 with 10 Axes>"
      ]
     },
     "metadata": {
      "needs_background": "light"
     },
     "output_type": "display_data"
    }
   ],
   "source": [
    "n = 10\n",
    "plt.figure(figsize=(20, 8))\n",
    "for i in range(1,n+1):\n",
    "    ax = plt.subplot(1, n, i)\n",
    "    plt.imshow(np.reshape(X_test_pre[i],[32, 4]))\n",
    "    plt.gray()\n",
    "    ax.get_xaxis().set_visible(False)\n",
    "    ax.get_yaxis().set_visible(False)\n",
    "plt.show()"
   ]
  },
  {
   "cell_type": "markdown",
   "metadata": {},
   "source": [
    "CNN으로도 인코딩된 표현으로도 볼 수 있다."
   ]
  },
  {
   "cell_type": "markdown",
   "metadata": {},
   "source": [
    "## denoising autoencoder"
   ]
  },
  {
   "cell_type": "markdown",
   "metadata": {},
   "source": [
    "이제 우리의 convoultional autoencoder를 이미지 denoising 문제에 적용보자. 방법으론 노이지(noisy)한 숫자 이미지를 클린(clean)한 숫자 이미지로 매핑하는 autoencoder를 훈련시키면 된다."
   ]
  },
  {
   "cell_type": "code",
   "execution_count": 29,
   "metadata": {},
   "outputs": [],
   "source": [
    "noise_factor = 0.3\n",
    "X_train_noisy = X_train + noise_factor * np.random.normal(loc=0.0, scale=1.0, size=X_train.shape) \n",
    "X_test_noisy = X_test + noise_factor * np.random.normal(loc=0.0, scale=1.0, size=X_test.shape) "
   ]
  },
  {
   "cell_type": "code",
   "execution_count": 30,
   "metadata": {
    "scrolled": true
   },
   "outputs": [
    {
     "data": {
      "image/png": "[encoded data removed]",
      "text/plain": [
       "<Figure size 1440x288 with 20 Axes>"
      ]
     },
     "metadata": {
      "needs_background": "light"
     },
     "output_type": "display_data"
    }
   ],
   "source": [
    "n = 10 \n",
    "plt.figure(figsize=(20, 4))\n",
    "for i in range(n):\n",
    "    # 원본 데이터\n",
    "    ax = plt.subplot(3, n, i + 1)\n",
    "    plt.imshow(np.reshape(X_train[i],[28, 28]))\n",
    "    plt.gray()\n",
    "    ax.get_xaxis().set_visible(False)\n",
    "    ax.get_yaxis().set_visible(False)\n",
    "\n",
    "    # 재구성된 데이터\n",
    "    ax = plt.subplot(3, n, i + 1 + n)\n",
    "    plt.imshow(np.reshape(X_train_noisy[i],[28, 28]))\n",
    "    plt.gray()\n",
    "    ax.get_xaxis().set_visible(False)\n",
    "    ax.get_yaxis().set_visible(False)\n",
    "    \n",
    "plt.show()"
   ]
  },
  {
   "cell_type": "markdown",
   "metadata": {},
   "source": [
    "원본이미지에 노이즈를 주어 두번째 줄과 같은 이미지를 만들었다."
   ]
  },
  {
   "cell_type": "code",
   "execution_count": 31,
   "metadata": {},
   "outputs": [],
   "source": [
    "def make_denoise_encoder_model():\n",
    "    input_layer = tf.keras.layers.Input(shape = (784))\n",
    "    layer1 = tf.keras.layers.Dense(400, activation='relu')(input_layer)\n",
    "    encode = tf.keras.layers.Dense(36, activation='relu')(layer1)    \n",
    "    layer1 = tf.keras.layers.Dense(400, activation='relu')(encode)\n",
    "    output_layer = tf.keras.layers.Dense(784, activation='sigmoid')(layer1)    \n",
    "    \n",
    "    model = tf.keras.Model(inputs=input_layer,outputs=output_layer)\n",
    "    \n",
    "    encoder = tf.keras.Model(inputs=input_layer,outputs=encode)\n",
    "\n",
    "    model.compile(loss='binary_crossentropy', optimizer='adam', metrics=['mse'])\n",
    "    \n",
    "    return model,encoder"
   ]
  },
  {
   "cell_type": "code",
   "execution_count": 32,
   "metadata": {},
   "outputs": [],
   "source": [
    "denoise_model, denoise_encoder = make_denoise_encoder_model()"
   ]
  },
  {
   "cell_type": "code",
   "execution_count": 33,
   "metadata": {
    "scrolled": true
   },
   "outputs": [
    {
     "data": {
      "text/plain": [
       "<tensorflow.python.keras.callbacks.History at 0x7f9346a2a2e8>"
      ]
     },
     "execution_count": 33,
     "metadata": {},
     "output_type": "execute_result"
    }
   ],
   "source": [
    "denoise_model.fit(X_train_noisy, X_train, epochs=50, batch_size=256,shuffle = True,verbose=False,validation_split = 0.2)"
   ]
  },
  {
   "cell_type": "code",
   "execution_count": 34,
   "metadata": {},
   "outputs": [],
   "source": [
    "X_train_decode = denoise_model(X_train_noisy)\n",
    "X_train_pre = denoise_encoder(X_train_noisy)"
   ]
  },
  {
   "cell_type": "code",
   "execution_count": 35,
   "metadata": {},
   "outputs": [
    {
     "data": {
      "image/png": "[encoded data removed]",
      "text/plain": [
       "<Figure size 1440x288 with 30 Axes>"
      ]
     },
     "metadata": {
      "needs_background": "light"
     },
     "output_type": "display_data"
    }
   ],
   "source": [
    "n = 10 \n",
    "plt.figure(figsize=(20, 4))\n",
    "for i in range(n):\n",
    "    # 원본 데이터\n",
    "    ax = plt.subplot(3, n, i + 1)\n",
    "    plt.imshow(np.reshape(X_train_noisy[i],[28, 28]))\n",
    "    plt.gray()\n",
    "    ax.get_xaxis().set_visible(False)\n",
    "    ax.get_yaxis().set_visible(False)\n",
    "\n",
    "    # 재구성된 데이터\n",
    "    ax = plt.subplot(3, n, i + 1 + n)\n",
    "    plt.imshow(np.reshape(X_train_decode[i],[28, 28]))\n",
    "    plt.gray()\n",
    "    ax.get_xaxis().set_visible(False)\n",
    "    ax.get_yaxis().set_visible(False)\n",
    "    \n",
    "    # encoding 데이터\n",
    "    ax = plt.subplot(3, n, i + 11 + n)\n",
    "    plt.imshow(np.reshape(X_train_pre[i],[6, 6]))\n",
    "    plt.gray()\n",
    "    ax.get_xaxis().set_visible(False)\n",
    "    ax.get_yaxis().set_visible(False)\n",
    "plt.show()"
   ]
  },
  {
   "cell_type": "markdown",
   "metadata": {},
   "source": [
    "노이즈 이미지를 보면 어느정도 숫자가 보이지만, 알아보기 힘든 경우도 있다. 두번째줄은 재구성한 이미지이다. 이처럼 노이즈가 포함된 이미지를 원본 숫자로 복원할 수 있다. 재구성된 이미지의 질을 더욱더 향상시키려면 CNN에서 많은 필터를 사용하면 된다."
   ]
  },
  {
   "cell_type": "markdown",
   "metadata": {},
   "source": [
    "## denoising autoencoder Conv2D"
   ]
  },
  {
   "cell_type": "code",
   "execution_count": 36,
   "metadata": {},
   "outputs": [],
   "source": [
    "(x_train, _), (x_test, _) = tf.keras.datasets.mnist.load_data()\n",
    "\n",
    "x_train = x_train.astype('float32') / 255.\n",
    "x_test = x_test.astype('float32') / 255.\n",
    "x_train = np.reshape(x_train, (len(x_train), 28, 28, 1)) \n",
    "x_test = np.reshape(x_test, (len(x_test), 28, 28, 1)) \n",
    "\n",
    "noise_factor = 0.5\n",
    "x_train_noisy = x_train + noise_factor * np.random.normal(loc=0.0, scale=1.0, size=x_train.shape) \n",
    "x_test_noisy = x_test + noise_factor * np.random.normal(loc=0.0, scale=1.0, size=x_test.shape) \n",
    "\n",
    "x_train_noisy = np.clip(x_train_noisy, 0., 1.)\n",
    "x_test_noisy = np.clip(x_test_noisy, 0., 1.)"
   ]
  },
  {
   "cell_type": "code",
   "execution_count": 37,
   "metadata": {},
   "outputs": [
    {
     "data": {
      "image/png": "[encoded data removed]",
      "text/plain": [
       "<Figure size 1440x144 with 10 Axes>"
      ]
     },
     "metadata": {
      "needs_background": "light"
     },
     "output_type": "display_data"
    }
   ],
   "source": [
    "n = 10\n",
    "plt.figure(figsize=(20, 2))\n",
    "for i in range(n):\n",
    "    ax = plt.subplot(1, n, i+1)\n",
    "    plt.imshow(x_test_noisy[i].reshape(28, 28))\n",
    "    plt.gray()\n",
    "    ax.get_xaxis().set_visible(False)\n",
    "    ax.get_yaxis().set_visible(False)\n",
    "plt.show()"
   ]
  },
  {
   "cell_type": "code",
   "execution_count": 46,
   "metadata": {},
   "outputs": [],
   "source": [
    "def make_encoder_model():\n",
    "    input_layer = tf.keras.layers.Input(shape=(28, 28, 1))\n",
    "    layer1 = tf.keras.layers.Conv2D(32, (3, 3), activation='relu', padding='same')(input_layer)\n",
    "    layer1 = tf.keras.layers.MaxPooling2D((2, 2), padding='same')(layer1)\n",
    "    layer1 = tf.keras.layers.Conv2D(32, (3, 3), activation='relu', padding='same')(layer1)\n",
    "    encode = tf.keras.layers.MaxPooling2D((2, 2), padding='same')(layer1)\n",
    "    layer1 = tf.keras.layers.Conv2D(32, (3, 3),  activation='relu', padding='same')(encode)\n",
    "    layer1 = tf.keras.layers.UpSampling2D((2, 2))(layer1)\n",
    "    layer1 = tf.keras.layers.Conv2D(32, (3, 3),  activation='relu', padding='same')(layer1)\n",
    "    layer1 = tf.keras.layers.UpSampling2D((2, 2))(layer1)\n",
    "    output_layer = tf.keras.layers.Conv2D(1, (3, 3), activation='sigmoid', padding='same')(layer1)\n",
    "\n",
    "    model = tf.keras.Model(inputs=input_layer,outputs=output_layer)\n",
    "    model.compile(loss='binary_crossentropy', optimizer='adadelta')    \n",
    "    \n",
    "    encoder = tf.keras.Model(inputs=input_layer,outputs=encode)\n",
    "\n",
    "    return model,encoder"
   ]
  },
  {
   "cell_type": "code",
   "execution_count": 47,
   "metadata": {},
   "outputs": [],
   "source": [
    "model,encoder = make_encoder_model()"
   ]
  },
  {
   "cell_type": "code",
   "execution_count": 48,
   "metadata": {
    "scrolled": true
   },
   "outputs": [
    {
     "name": "stdout",
     "output_type": "stream",
     "text": [
      "Train on 60000 samples, validate on 10000 samples\n",
      "Epoch 1/100\n",
      "60000/60000 [==============================] - 70s 1ms/sample - loss: 0.6968 - val_loss: 0.6937\n",
      "Epoch 2/100\n",
      "60000/60000 [==============================] - 69s 1ms/sample - loss: 0.6906 - val_loss: 0.6876\n",
      "Epoch 3/100\n",
      "60000/60000 [==============================] - 68s 1ms/sample - loss: 0.6844 - val_loss: 0.6811\n",
      "Epoch 4/100\n",
      "60000/60000 [==============================] - 68s 1ms/sample - loss: 0.6767 - val_loss: 0.6715\n",
      "Epoch 5/100\n",
      "60000/60000 [==============================] - 67s 1ms/sample - loss: 0.6631 - val_loss: 0.6536\n",
      "Epoch 6/100\n",
      "60000/60000 [==============================] - 67s 1ms/sample - loss: 0.6393 - val_loss: 0.6232\n",
      "Epoch 7/100\n",
      "60000/60000 [==============================] - 68s 1ms/sample - loss: 0.6003 - val_loss: 0.5766\n",
      "Epoch 8/100\n",
      "60000/60000 [==============================] - 68s 1ms/sample - loss: 0.5503 - val_loss: 0.5305\n",
      "Epoch 9/100\n",
      "60000/60000 [==============================] - 68s 1ms/sample - loss: 0.5156 - val_loss: 0.5105\n",
      "Epoch 10/100\n",
      "60000/60000 [==============================] - 68s 1ms/sample - loss: 0.5036 - val_loss: 0.5044\n",
      "Epoch 11/100\n",
      "60000/60000 [==============================] - 67s 1ms/sample - loss: 0.4987 - val_loss: 0.5004\n",
      "Epoch 12/100\n",
      "60000/60000 [==============================] - 68s 1ms/sample - loss: 0.4947 - val_loss: 0.4965\n",
      "Epoch 13/100\n",
      "60000/60000 [==============================] - 68s 1ms/sample - loss: 0.4908 - val_loss: 0.4925\n",
      "Epoch 14/100\n",
      "60000/60000 [==============================] - 69s 1ms/sample - loss: 0.4867 - val_loss: 0.4884\n",
      "Epoch 15/100\n",
      "60000/60000 [==============================] - 79s 1ms/sample - loss: 0.4825 - val_loss: 0.4840\n",
      "Epoch 16/100\n",
      "60000/60000 [==============================] - 78s 1ms/sample - loss: 0.4782 - val_loss: 0.4796\n",
      "Epoch 17/100\n",
      "60000/60000 [==============================] - 79s 1ms/sample - loss: 0.4738 - val_loss: 0.4751\n",
      "Epoch 18/100\n",
      "60000/60000 [==============================] - 79s 1ms/sample - loss: 0.4694 - val_loss: 0.4707\n",
      "Epoch 19/100\n",
      "60000/60000 [==============================] - 79s 1ms/sample - loss: 0.4650 - val_loss: 0.4662\n",
      "Epoch 20/100\n",
      "60000/60000 [==============================] - 79s 1ms/sample - loss: 0.4605 - val_loss: 0.4616\n",
      "Epoch 21/100\n",
      "60000/60000 [==============================] - 80s 1ms/sample - loss: 0.4560 - val_loss: 0.4569\n",
      "Epoch 22/100\n",
      "60000/60000 [==============================] - 80s 1ms/sample - loss: 0.4512 - val_loss: 0.4520\n",
      "Epoch 23/100\n",
      "60000/60000 [==============================] - 80s 1ms/sample - loss: 0.4462 - val_loss: 0.4468\n",
      "Epoch 24/100\n",
      "60000/60000 [==============================] - 80s 1ms/sample - loss: 0.4409 - val_loss: 0.4412\n",
      "Epoch 25/100\n",
      "60000/60000 [==============================] - 80s 1ms/sample - loss: 0.4352 - val_loss: 0.4351\n",
      "Epoch 26/100\n",
      "60000/60000 [==============================] - 80s 1ms/sample - loss: 0.4291 - val_loss: 0.4286\n",
      "Epoch 27/100\n",
      "60000/60000 [==============================] - 80s 1ms/sample - loss: 0.4224 - val_loss: 0.4215\n",
      "Epoch 28/100\n",
      "60000/60000 [==============================] - 79s 1ms/sample - loss: 0.4150 - val_loss: 0.4136\n",
      "Epoch 29/100\n",
      "60000/60000 [==============================] - 78s 1ms/sample - loss: 0.4067 - val_loss: 0.4044\n",
      "Epoch 30/100\n",
      "60000/60000 [==============================] - 80s 1ms/sample - loss: 0.3970 - val_loss: 0.3937\n",
      "Epoch 31/100\n",
      "60000/60000 [==============================] - 78s 1ms/sample - loss: 0.3856 - val_loss: 0.3812\n",
      "Epoch 32/100\n",
      "60000/60000 [==============================] - 79s 1ms/sample - loss: 0.3723 - val_loss: 0.3668\n",
      "Epoch 33/100\n",
      "60000/60000 [==============================] - 78s 1ms/sample - loss: 0.3575 - val_loss: 0.3513\n",
      "Epoch 34/100\n",
      "60000/60000 [==============================] - 78s 1ms/sample - loss: 0.3422 - val_loss: 0.3359\n",
      "Epoch 35/100\n",
      "60000/60000 [==============================] - 77s 1ms/sample - loss: 0.3270 - val_loss: 0.3206\n",
      "Epoch 36/100\n",
      "60000/60000 [==============================] - 78s 1ms/sample - loss: 0.3121 - val_loss: 0.3057\n",
      "Epoch 37/100\n",
      "60000/60000 [==============================] - 78s 1ms/sample - loss: 0.2978 - val_loss: 0.2917\n",
      "Epoch 38/100\n",
      "60000/60000 [==============================] - 78s 1ms/sample - loss: 0.2847 - val_loss: 0.2793\n",
      "Epoch 39/100\n",
      "60000/60000 [==============================] - 78s 1ms/sample - loss: 0.2732 - val_loss: 0.2686\n",
      "Epoch 40/100\n",
      "60000/60000 [==============================] - 78s 1ms/sample - loss: 0.2634 - val_loss: 0.2594\n",
      "Epoch 41/100\n",
      "60000/60000 [==============================] - 78s 1ms/sample - loss: 0.2550 - val_loss: 0.2515\n",
      "Epoch 42/100\n",
      "60000/60000 [==============================] - 78s 1ms/sample - loss: 0.2478 - val_loss: 0.2448\n",
      "Epoch 43/100\n",
      "60000/60000 [==============================] - 78s 1ms/sample - loss: 0.2417 - val_loss: 0.2391\n",
      "Epoch 44/100\n",
      "60000/60000 [==============================] - 79s 1ms/sample - loss: 0.2365 - val_loss: 0.2342\n",
      "Epoch 45/100\n",
      "60000/60000 [==============================] - 79s 1ms/sample - loss: 0.2321 - val_loss: 0.2301\n",
      "Epoch 46/100\n",
      "60000/60000 [==============================] - 79s 1ms/sample - loss: 0.2283 - val_loss: 0.2265\n",
      "Epoch 47/100\n",
      "60000/60000 [==============================] - 81s 1ms/sample - loss: 0.2250 - val_loss: 0.2233\n",
      "Epoch 48/100\n",
      "60000/60000 [==============================] - 80s 1ms/sample - loss: 0.2220 - val_loss: 0.2205\n",
      "Epoch 49/100\n",
      "60000/60000 [==============================] - 80s 1ms/sample - loss: 0.2194 - val_loss: 0.2180\n",
      "Epoch 50/100\n",
      "60000/60000 [==============================] - 78s 1ms/sample - loss: 0.2170 - val_loss: 0.2156\n",
      "Epoch 51/100\n",
      "60000/60000 [==============================] - 79s 1ms/sample - loss: 0.2148 - val_loss: 0.2134\n",
      "Epoch 52/100\n",
      "60000/60000 [==============================] - 80s 1ms/sample - loss: 0.2127 - val_loss: 0.2113\n",
      "Epoch 53/100\n",
      "60000/60000 [==============================] - 80s 1ms/sample - loss: 0.2106 - val_loss: 0.2093\n",
      "Epoch 54/100\n",
      "60000/60000 [==============================] - 78s 1ms/sample - loss: 0.2087 - val_loss: 0.2074\n",
      "Epoch 55/100\n",
      "60000/60000 [==============================] - 78s 1ms/sample - loss: 0.2068 - val_loss: 0.2055\n",
      "Epoch 56/100\n",
      "60000/60000 [==============================] - 78s 1ms/sample - loss: 0.2049 - val_loss: 0.2036\n",
      "Epoch 57/100\n",
      "60000/60000 [==============================] - 77s 1ms/sample - loss: 0.2031 - val_loss: 0.2018\n",
      "Epoch 58/100\n",
      "60000/60000 [==============================] - 77s 1ms/sample - loss: 0.2014 - val_loss: 0.2000\n",
      "Epoch 59/100\n",
      "60000/60000 [==============================] - 77s 1ms/sample - loss: 0.1996 - val_loss: 0.1983\n",
      "Epoch 60/100\n",
      "60000/60000 [==============================] - 77s 1ms/sample - loss: 0.1980 - val_loss: 0.1966\n",
      "Epoch 61/100\n",
      "60000/60000 [==============================] - 78s 1ms/sample - loss: 0.1963 - val_loss: 0.1950\n",
      "Epoch 62/100\n",
      "60000/60000 [==============================] - 79s 1ms/sample - loss: 0.1947 - val_loss: 0.1934\n",
      "Epoch 63/100\n",
      "60000/60000 [==============================] - 78s 1ms/sample - loss: 0.1931 - val_loss: 0.1918\n",
      "Epoch 64/100\n",
      "60000/60000 [==============================] - 77s 1ms/sample - loss: 0.1916 - val_loss: 0.1902\n",
      "Epoch 65/100\n",
      "60000/60000 [==============================] - 77s 1ms/sample - loss: 0.1901 - val_loss: 0.1887\n",
      "Epoch 66/100\n",
      "60000/60000 [==============================] - 76s 1ms/sample - loss: 0.1886 - val_loss: 0.1872\n",
      "Epoch 67/100\n",
      "60000/60000 [==============================] - 77s 1ms/sample - loss: 0.1872 - val_loss: 0.1858\n",
      "Epoch 68/100\n",
      "60000/60000 [==============================] - 77s 1ms/sample - loss: 0.1858 - val_loss: 0.1844\n",
      "Epoch 69/100\n",
      "60000/60000 [==============================] - 78s 1ms/sample - loss: 0.1845 - val_loss: 0.1831\n",
      "Epoch 70/100\n",
      "60000/60000 [==============================] - 78s 1ms/sample - loss: 0.1832 - val_loss: 0.1818\n",
      "Epoch 71/100\n",
      "60000/60000 [==============================] - 78s 1ms/sample - loss: 0.1820 - val_loss: 0.1806\n",
      "Epoch 72/100\n",
      "60000/60000 [==============================] - 78s 1ms/sample - loss: 0.1808 - val_loss: 0.1794\n",
      "Epoch 73/100\n",
      "60000/60000 [==============================] - 78s 1ms/sample - loss: 0.1796 - val_loss: 0.1783\n",
      "Epoch 74/100\n",
      "60000/60000 [==============================] - 78s 1ms/sample - loss: 0.1785 - val_loss: 0.1772\n",
      "Epoch 75/100\n",
      "60000/60000 [==============================] - 78s 1ms/sample - loss: 0.1775 - val_loss: 0.1761\n",
      "Epoch 76/100\n",
      "60000/60000 [==============================] - 77s 1ms/sample - loss: 0.1765 - val_loss: 0.1751\n",
      "Epoch 77/100\n",
      "60000/60000 [==============================] - 73s 1ms/sample - loss: 0.1755 - val_loss: 0.1741\n",
      "Epoch 78/100\n",
      "60000/60000 [==============================] - 69s 1ms/sample - loss: 0.1746 - val_loss: 0.1732\n",
      "Epoch 79/100\n",
      "60000/60000 [==============================] - 69s 1ms/sample - loss: 0.1737 - val_loss: 0.1723\n",
      "Epoch 80/100\n",
      "60000/60000 [==============================] - 70s 1ms/sample - loss: 0.1729 - val_loss: 0.1715\n",
      "Epoch 81/100\n",
      "60000/60000 [==============================] - 69s 1ms/sample - loss: 0.1721 - val_loss: 0.1707\n",
      "Epoch 82/100\n",
      "60000/60000 [==============================] - 69s 1ms/sample - loss: 0.1713 - val_loss: 0.1699\n",
      "Epoch 83/100\n",
      "60000/60000 [==============================] - 70s 1ms/sample - loss: 0.1705 - val_loss: 0.1692\n",
      "Epoch 84/100\n",
      "60000/60000 [==============================] - 70s 1ms/sample - loss: 0.1698 - val_loss: 0.1685\n",
      "Epoch 85/100\n",
      "60000/60000 [==============================] - 71s 1ms/sample - loss: 0.1692 - val_loss: 0.1678\n",
      "Epoch 86/100\n",
      "60000/60000 [==============================] - 70s 1ms/sample - loss: 0.1685 - val_loss: 0.1672\n",
      "Epoch 87/100\n",
      "60000/60000 [==============================] - 70s 1ms/sample - loss: 0.1679 - val_loss: 0.1665\n",
      "Epoch 88/100\n",
      "60000/60000 [==============================] - 70s 1ms/sample - loss: 0.1673 - val_loss: 0.1659\n",
      "Epoch 89/100\n",
      "60000/60000 [==============================] - 70s 1ms/sample - loss: 0.1667 - val_loss: 0.1653\n",
      "Epoch 90/100\n",
      "60000/60000 [==============================] - 70s 1ms/sample - loss: 0.1661 - val_loss: 0.1648\n",
      "Epoch 91/100\n",
      "60000/60000 [==============================] - 71s 1ms/sample - loss: 0.1655 - val_loss: 0.1642\n",
      "Epoch 92/100\n",
      "60000/60000 [==============================] - 72s 1ms/sample - loss: 0.1650 - val_loss: 0.1637\n",
      "Epoch 93/100\n",
      "60000/60000 [==============================] - 71s 1ms/sample - loss: 0.1645 - val_loss: 0.1632\n",
      "Epoch 94/100\n",
      "60000/60000 [==============================] - 71s 1ms/sample - loss: 0.1640 - val_loss: 0.1627\n",
      "Epoch 95/100\n",
      "60000/60000 [==============================] - 70s 1ms/sample - loss: 0.1635 - val_loss: 0.1622\n",
      "Epoch 96/100\n",
      "60000/60000 [==============================] - 70s 1ms/sample - loss: 0.1630 - val_loss: 0.1617\n",
      "Epoch 97/100\n",
      "60000/60000 [==============================] - 70s 1ms/sample - loss: 0.1625 - val_loss: 0.1613\n",
      "Epoch 98/100\n",
      "60000/60000 [==============================] - 70s 1ms/sample - loss: 0.1621 - val_loss: 0.1608\n",
      "Epoch 99/100\n",
      "60000/60000 [==============================] - 70s 1ms/sample - loss: 0.1617 - val_loss: 0.1604\n",
      "Epoch 100/100\n",
      "60000/60000 [==============================] - 70s 1ms/sample - loss: 0.1612 - val_loss: 0.1600\n"
     ]
    },
    {
     "data": {
      "text/plain": [
       "<tensorflow.python.keras.callbacks.History at 0x7f934597de80>"
      ]
     },
     "execution_count": 48,
     "metadata": {},
     "output_type": "execute_result"
    }
   ],
   "source": [
    "model.fit(x_train_noisy, x_train,epochs=100,batch_size=256,shuffle=True,validation_data=(x_test_noisy, x_test))"
   ]
  },
  {
   "cell_type": "code",
   "execution_count": 49,
   "metadata": {},
   "outputs": [],
   "source": [
    "x_test_decode = model(x_test)\n",
    "x_test_pre = encoder(x_test)"
   ]
  },
  {
   "cell_type": "code",
   "execution_count": 50,
   "metadata": {},
   "outputs": [
    {
     "data": {
      "image/png": "[encoded data removed]",
      "text/plain": [
       "<Figure size 1440x288 with 20 Axes>"
      ]
     },
     "metadata": {
      "needs_background": "light"
     },
     "output_type": "display_data"
    }
   ],
   "source": [
    "n = 10\n",
    "plt.figure(figsize=(20, 4))\n",
    "for i in range(n):\n",
    "    # 원본 데이터\n",
    "    ax = plt.subplot(3, n, i + 1)\n",
    "    plt.imshow(np.reshape(x_test_noisy[i],[28, 28]))\n",
    "    plt.gray()\n",
    "    ax.get_xaxis().set_visible(False)\n",
    "    ax.get_yaxis().set_visible(False)\n",
    "\n",
    "    # 재구성된 데이터\n",
    "    ax = plt.subplot(3, n, i + 1 + n)\n",
    "    plt.imshow(np.reshape(x_test_decode[i],[28, 28]))\n",
    "    plt.gray()\n",
    "    ax.get_xaxis().set_visible(False)\n",
    "    ax.get_yaxis().set_visible(False)\n",
    "plt.show()"
   ]
  },
  {
   "cell_type": "markdown",
   "metadata": {},
   "source": [
    "## Variational autoencoder(VAE)"
   ]
  },
  {
   "cell_type": "markdown",
   "metadata": {},
   "source": [
    "이는 학습된 인코딩 표현에 대한 제약 조건이 추가된 autoencoder 이다.. 더 정확히 말하자면, 입력 데이터에 대한 latent variable model 을 학습하는 autoencoder라고 할 수 있다. 따라서, 신경망에게 임의의 함수를 학습시키는 대신, 데이터를 모델링하는 확률 분포의 매개 변수를 학습시킨다. 만약, 이 분포에서 점(points)를 샘플링하면, 새로운 입력 데이터의 샘플 또한 생성할 수 있다.  \n",
    "VAE는 “생성 모델” 이라 불린다.  \n",
    "자세한 예제는 다음 글에서 기술한다."
   ]
  },
  {
   "cell_type": "markdown",
   "metadata": {},
   "source": [
    "### Conclusion"
   ]
  },
  {
   "cell_type": "markdown",
   "metadata": {},
   "source": [
    "이번 글에서는 autoencoder의 기본적인 방법을 소개했다. 다음 글에서 VAE와 autoencoder의 응용에 대해서 알아보겠다."
   ]
  }
 ],
 "metadata": {
  "kernelspec": {
   "display_name": "Python 3",
   "language": "python",
   "name": "python3"
  },
  "language_info": {
   "codemirror_mode": {
    "name": "ipython",
    "version": 3
   },
   "file_extension": ".py",
   "mimetype": "text/x-python",
   "name": "python",
   "nbconvert_exporter": "python",
   "pygments_lexer": "ipython3",
   "version": "3.6.9"
  }
 },
 "nbformat": 4,
 "nbformat_minor": 2
}
